{
 "cells": [
  {
   "cell_type": "code",
   "execution_count": 2,
   "metadata": {
    "collapsed": true
   },
   "outputs": [],
   "source": [
    "%run ../../main.py\n",
    "%matplotlib inline"
   ]
  },
  {
   "cell_type": "code",
   "execution_count": 15,
   "metadata": {},
   "outputs": [
    {
     "data": {
      "text/plain": [
       "[CAR {a-list-celebrities=<0;2)} => {class=box-office-bomb} s: 0.70 c: 1.00 l: 2,\n",
       " CAR {a-list-celebrities=<2;4)} => {class=box-office-bomb} s: 0.30 c: 1.00 l: 2,\n",
       " CAR {estimated-budget=<50;100)} => {class=box-office-bomb} s: 0.30 c: 1.00 l: 2,\n",
       " CAR {estimated-budget=<150;200)} => {class=box-office-bomb} s: 0.30 c: 1.00 l: 2,\n",
       " CAR {estimated-budget=<200;250)} => {class=box-office-bomb} s: 0.20 c: 1.00 l: 2,\n",
       " CAR {a-list-celebrities=<0;2),estimated-budget=<50;100)} => {class=box-office-bomb} s: 0.20 c: 1.00 l: 3,\n",
       " CAR {a-list-celebrities=<0;2),estimated-budget=<150;200)} => {class=box-office-bomb} s: 0.20 c: 1.00 l: 3,\n",
       " CAR {estimated-budget=<100;150)} => {class=box-office-bomb} s: 0.10 c: 1.00 l: 2,\n",
       " CAR {estimated-budget=<0;50)} => {class=box-office-bomb} s: 0.10 c: 1.00 l: 2,\n",
       " CAR {a-list-celebrities=<2;4),estimated-budget=<50;100)} => {class=box-office-bomb} s: 0.10 c: 1.00 l: 3,\n",
       " CAR {a-list-celebrities=<2;4),estimated-budget=<150;200)} => {class=box-office-bomb} s: 0.10 c: 1.00 l: 3,\n",
       " CAR {a-list-celebrities=<0;2),estimated-budget=<200;250)} => {class=box-office-bomb} s: 0.10 c: 1.00 l: 3,\n",
       " CAR {a-list-celebrities=<2;4),estimated-budget=<200;250)} => {class=box-office-bomb} s: 0.10 c: 1.00 l: 3,\n",
       " CAR {a-list-celebrities=<0;2),estimated-budget=<100;150)} => {class=box-office-bomb} s: 0.10 c: 1.00 l: 3,\n",
       " CAR {a-list-celebrities=<0;2),estimated-budget=<0;50)} => {class=box-office-bomb} s: 0.10 c: 1.00 l: 3]"
      ]
     },
     "execution_count": 15,
     "metadata": {},
     "output_type": "execute_result"
    }
   ],
   "source": [
    "from cba import CBA\n",
    "from cba import generateCARs, M1Algorithm, M2Algorithm\n",
    "from cba.algorithms import createCARs\n",
    "\n",
    "\n",
    "\n",
    "import matplotlib.pyplot as plt\n",
    "import matplotlib.patches as patches\n",
    "\n",
    "from itertools import combinations\n",
    "\n",
    "import itertools\n",
    "import pandas as pd\n",
    "import numpy\n",
    "import re\n",
    "\n",
    "movies = pd.read_csv(\"../data/movies.csv\", sep=\";\")\n",
    "movies_discr = movies.copy(True)\n",
    "\n",
    "\n",
    "\n",
    "budget_bins = range(0, 350, 50)\n",
    "budget_bins_names = [ \"<{0};{1})\".format(i, i + 50) for i in budget_bins[:-1] ]\n",
    "\n",
    "celebrities_bins = range(0, 10, 2)\n",
    "celebrities_bins_names = [ \"<{0};{1})\".format(i, i + 2) for i in celebrities_bins[:-1] ]\n",
    "\n",
    "movies_discr['estimated-budget'] = pd.cut(movies['estimated-budget'], budget_bins, labels=budget_bins_names)\n",
    "movies_discr['a-list-celebrities'] = pd.cut(movies['a-list-celebrities'], celebrities_bins, labels=celebrities_bins_names)\n",
    "\n",
    "#movies_discr.to_csv(\"../data/movies_discr.csv\", sep=\";\")\n",
    "movies_discr = movies_discr.iloc[:10,:]\n",
    "\n",
    "transactionDB = TransactionDB.from_pandasdf(movies_discr)\n",
    "\n",
    "rules = generateCARs(transactionDB, support=5, confidence=50)\n",
    "\n",
    "movies_vals = movies.get_values()\n",
    "\n",
    "\n",
    "x = range(0, 350, 50)\n",
    "y = range(1, 9)\n",
    "\n",
    "\n",
    "x_points = list(map(lambda n: n[0], movies_vals))\n",
    "y_points = list(map(lambda n: n[1], movies_vals))\n",
    "data_class = list(movies['class'])\n",
    "appearance = {\n",
    "    'box-office-bomb': ('brown', \"o\"),\n",
    "    'main-stream-hit': ('blue', \"o\"),\n",
    "    'critical-success': ('green', \"o\")\n",
    "}\n",
    "rule_appearance = {\n",
    "    'box-office-bomb': 'tan',\n",
    "    'main-stream-hit': 'aqua',\n",
    "    'critical-success': 'lightgreen'\n",
    "}\n",
    "\n",
    "\n",
    "plt.style.use('seaborn-white')\n",
    "rules"
   ]
  },
  {
   "cell_type": "code",
   "execution_count": 13,
   "metadata": {},
   "outputs": [
    {
     "data": {
      "text/plain": [
       "estimated-budget             <50;100)\n",
       "a-list-celebrities              <2;4)\n",
       "class                 main-stream-hit\n",
       "Name: 18, dtype: object"
      ]
     },
     "execution_count": 13,
     "metadata": {},
     "output_type": "execute_result"
    }
   ],
   "source": [
    "movies_discr"
   ]
  }
 ],
 "metadata": {
  "kernelspec": {
   "display_name": "Python 3",
   "language": "python",
   "name": "python3"
  },
  "language_info": {
   "codemirror_mode": {
    "name": "ipython",
    "version": 3
   },
   "file_extension": ".py",
   "mimetype": "text/x-python",
   "name": "python",
   "nbconvert_exporter": "python",
   "pygments_lexer": "ipython3",
   "version": "3.6.1"
  }
 },
 "nbformat": 4,
 "nbformat_minor": 2
}
