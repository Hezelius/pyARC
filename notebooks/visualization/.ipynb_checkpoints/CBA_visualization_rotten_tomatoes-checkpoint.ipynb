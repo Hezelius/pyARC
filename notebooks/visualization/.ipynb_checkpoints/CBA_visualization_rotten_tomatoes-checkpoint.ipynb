{
 "cells": [
  {
   "cell_type": "code",
   "execution_count": null,
   "metadata": {
    "collapsed": true
   },
   "outputs": [],
   "source": [
    "from cba import CBA\n",
    "\n",
    "\n",
    "\n",
    "import matplotlib.pyplot as plt\n",
    "import matplotlib.patches as patches\n",
    "\n",
    "from itertools import combinations\n",
    "\n",
    "import itertools\n",
    "import pandas as pd\n",
    "import numpy\n",
    "import re\n",
    "\n",
    "movies = pd.read_csv(\"../data/movies_tomatoes.csv\", sep=\";\")\n",
    "movies_discr = movies.copy(True)\n",
    "\n",
    "\n",
    "\n",
    "budget_bins = range(0, 350, 50)\n",
    "budget_bins_names = [ \"<{0};{1})\".format(i, i + 50) for i in budget_bins[:-1] ]\n",
    "\n",
    "celebrities_bins = range(0, 110, 10)\n",
    "celebrities_bins_names = [ \"<{0};{1})\".format(i, i + 2) for i in celebrities_bins[:-1] ]\n",
    "\n",
    "movies_discr['estimated-budget'] = pd.cut(movies['estimated-budget'], budget_bins, labels=budget_bins_names)\n",
    "movies_discr['rotten_tomatoes'] = pd.cut(movies['rotten_tomatoes'], celebrities_bins, labels=celebrities_bins_names)\n",
    "\n",
    "transactionDB = TransactionDB.from_pandasdf(movies_discr)\n",
    "\n",
    "rules = generateCARs(transactionDB, support=-1, confidence=50)\n",
    "\n",
    "movies_vals = movies.get_values()\n",
    "\n",
    "rules_fig = plt.figure()\n",
    "\n",
    "x = range(0, 350, 50)\n",
    "y = range(1, 9)\n",
    "\n",
    "\n",
    "x_points = list(map(lambda n: n[0], movies_vals))\n",
    "y_points = list(map(lambda n: n[1], movies_vals))\n",
    "data_class = list(movies['class'])\n",
    "appearance = {\n",
    "    'box-office-bomb': ('brown', \"o\"),\n",
    "    'main-stream-hit': ('blue', \"o\"),\n",
    "    'critical-success': ('green', \"o\")\n",
    "}\n",
    "rule_appearance = {\n",
    "    'box-office-bomb': 'tan',\n",
    "    'main-stream-hit': 'aqua',\n",
    "    'critical-success': 'lightgreen'\n",
    "}"
   ]
  }
 ],
 "metadata": {
  "kernelspec": {
   "display_name": "Python 3",
   "language": "python",
   "name": "python3"
  },
  "language_info": {
   "codemirror_mode": {
    "name": "ipython",
    "version": 3
   },
   "file_extension": ".py",
   "mimetype": "text/x-python",
   "name": "python",
   "nbconvert_exporter": "python",
   "pygments_lexer": "ipython3",
   "version": "3.6.1"
  }
 },
 "nbformat": 4,
 "nbformat_minor": 2
}
