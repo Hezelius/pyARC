{
 "cells": [
  {
   "cell_type": "code",
   "execution_count": 2,
   "metadata": {
    "collapsed": true
   },
   "outputs": [],
   "source": [
    "%run ../../main.py\n",
    "%matplotlib inline"
   ]
  },
  {
   "cell_type": "code",
   "execution_count": 4,
   "metadata": {},
   "outputs": [
    {
     "data": {
      "text/plain": [
       "<matplotlib.figure.Figure at 0x1884870bd30>"
      ]
     },
     "metadata": {},
     "output_type": "display_data"
    }
   ],
   "source": [
    "from cba import CBA, generateCARs\n",
    "\n",
    "\n",
    "\n",
    "import matplotlib.pyplot as plt\n",
    "import matplotlib.patches as patches\n",
    "\n",
    "from itertools import combinations\n",
    "\n",
    "import itertools\n",
    "import pandas as pd\n",
    "import numpy\n",
    "import re\n",
    "\n",
    "movies = pd.read_csv(\"../data/movies_tomatoes.csv\", sep=\";\")\n",
    "movies_discr = movies.copy(True)\n",
    "\n",
    "\n",
    "\n",
    "budget_bins = range(0, 350, 50)\n",
    "budget_bins_names = [ \"<{0};{1})\".format(i, i + 50) for i in budget_bins[:-1] ]\n",
    "\n",
    "celebrities_bins = range(0, 110, 10)\n",
    "celebrities_bins_names = [ \"<{0};{1})\".format(i, i + 2) for i in celebrities_bins[:-1] ]\n",
    "\n",
    "movies_discr['estimated-budget'] = pd.cut(movies['estimated-budget'], budget_bins, labels=budget_bins_names)\n",
    "movies_discr['rotten_tomatoes'] = pd.cut(movies['rotten_tomatoes'], celebrities_bins, labels=celebrities_bins_names)\n",
    "\n",
    "transactionDB = TransactionDB.from_pandasdf(movies_discr)\n",
    "\n",
    "rules = generateCARs(transactionDB, support=-1, confidence=50)\n",
    "\n",
    "movies_vals = movies.get_values()\n",
    "\n",
    "rules_fig = plt.figure()\n",
    "\n",
    "x = range(0, 350, 50)\n",
    "y = range(0, 110, 10)\n",
    "\n",
    "\n",
    "x_points = list(map(lambda n: n[0], movies_vals))\n",
    "y_points = list(map(lambda n: n[1], movies_vals))\n",
    "data_class = list(movies['class'])\n",
    "appearance = {\n",
    "    'box-office-bomb': ('brown', \"o\"),\n",
    "    'main-stream-hit': ('blue', \"o\"),\n",
    "    'critical-success': ('green', \"o\")\n",
    "}\n",
    "rule_appearance = {\n",
    "    'box-office-bomb': 'tan',\n",
    "    'main-stream-hit': 'aqua',\n",
    "    'critical-success': 'lightgreen'\n",
    "}"
   ]
  },
  {
   "cell_type": "code",
   "execution_count": 5,
   "metadata": {},
   "outputs": [
    {
     "data": {
      "image/png": "[encoded data removed]",
      "text/plain": [
       "<matplotlib.figure.Figure at 0x188486d0be0>"
      ]
     },
     "metadata": {},
     "output_type": "display_data"
    }
   ],
   "source": [
    "def plot_rule(rule, plt):\n",
    "    interval_regex = \"<(\\d+);(\\d+)\\)\"\n",
    "    \n",
    "    lower_y = 0\n",
    "    area_y = celebrities_bins[-1]\n",
    "    \n",
    "    lower_x = 0\n",
    "    area_x = budget_bins[-1]\n",
    "    \n",
    "    \n",
    "    \n",
    "    \n",
    "    if len(rule.antecedent) != 0:\n",
    "        if rule.antecedent[0][0] == \"a-list-celebrities\":\n",
    "            y = rule.antecedent[0]\n",
    "            y_boundaries = re.search(interval_regex, y[1])\n",
    "            lower_y = float(y_boundaries.group(1))\n",
    "            upper_y = float(y_boundaries.group(2))\n",
    "            area_y = upper_y - lower_y\n",
    "\n",
    "            axis = plt.gca()\n",
    "        else:\n",
    "            x = rule.antecedent[0]\n",
    "            x_boundaries = re.search(interval_regex, x[1])\n",
    "            lower_x = float(x_boundaries.group(1))\n",
    "            upper_x = float(x_boundaries.group(2))\n",
    "            area_x = upper_x - lower_x\n",
    "        \n",
    "    if len(rule.antecedent) > 1:\n",
    "        if rule.antecedent[1][0] == \"a-list-celebrities\":\n",
    "            y = rule.antecedent[1]\n",
    "            y_boundaries = re.search(interval_regex, y[1])\n",
    "            lower_y = float(y_boundaries.group(1))\n",
    "            upper_y = float(y_boundaries.group(2))\n",
    "            area_y = upper_y - lower_y\n",
    "\n",
    "            axis = plt.gca()\n",
    "        else:\n",
    "            x = rule.antecedent[1]\n",
    "            x_boundaries = re.search(interval_regex, x[1])\n",
    "            lower_x = float(x_boundaries.group(1))\n",
    "            upper_x = float(x_boundaries.group(2))\n",
    "            area_x = upper_x - lower_x\n",
    "            \n",
    "    \n",
    "    axis = plt.gca()\n",
    "\n",
    "    class_name = rule.consequent[1]\n",
    "    \n",
    "    axis.add_patch(\n",
    "       patches.Rectangle((lower_x, lower_y), area_x, area_y, zorder=-2, facecolor=rule_appearance[class_name], alpha=rule.confidence)\n",
    "    )\n",
    "\n",
    " \n",
    "\n",
    "for r in rules:\n",
    "    plot_rule(r, plt)\n",
    "\n",
    "# data cases\n",
    "for i in range(len(x_points)):\n",
    "    plt.scatter(x_points[i], y_points[i], marker=appearance[data_class[i]][1], color=appearance[data_class[i]][0], s=60)\n",
    "\n",
    "\n",
    "# rule boundary lines\n",
    "for i, n in enumerate(x):\n",
    "    plt.axhline(y=y[i], color = \"grey\", linestyle=\"dashed\")\n",
    "    plt.axvline(x=x[i], color = \"grey\", linestyle=\"dashed\")\n",
    "\n",
    "    \n",
    "    \n",
    "plt.xlabel('Estimated Budget (1000$)')\n",
    "plt.ylabel('A-List Celebrities')\n",
    "\n",
    "\n",
    "\n",
    "plt.show()"
   ]
  }
 ],
 "metadata": {
  "kernelspec": {
   "display_name": "Python 3",
   "language": "python",
   "name": "python3"
  },
  "language_info": {
   "codemirror_mode": {
    "name": "ipython",
    "version": 3
   },
   "file_extension": ".py",
   "mimetype": "text/x-python",
   "name": "python",
   "nbconvert_exporter": "python",
   "pygments_lexer": "ipython3",
   "version": "3.6.1"
  }
 },
 "nbformat": 4,
 "nbformat_minor": 2
}
