{
 "cells": [
  {
   "cell_type": "code",
   "execution_count": 6,
   "metadata": {},
   "outputs": [
    {
     "name": "stdout",
     "output_type": "stream",
     "text": [
      "[('a',), ('b',), ('c',), ('d',), ('a', 'b'), ('a', 'c'), ('a', 'd'), ('b', 'c'), ('b', 'd'), ('c', 'd'), ('a', 'b', 'c'), ('a', 'b', 'd'), ('a', 'c', 'd'), ('b', 'c', 'd'), ('a', 'b', 'c', 'd')]\n"
     ]
    }
   ],
   "source": [
    "import itertools\n",
    "from itertools import chain\n",
    "\n",
    "\n",
    "items = \"abcdefghij\"\n",
    "\n",
    "\n",
    "for i in range(len(items)):\n",
    "    sublist = items[:i+1]\n",
    "    \n",
    "\n",
    "\n",
    "combs = [ list(itertools.combinations(items, length)) for length in range(1, len(items) + 1) ]\n",
    "\n",
    "flatten = [ item for sublist in combs for item in sublist ]\n",
    "\n",
    "\n",
    "print(flatten)"
   ]
  }
 ],
 "metadata": {
  "kernelspec": {
   "display_name": "Python 3",
   "language": "python",
   "name": "python3"
  },
  "language_info": {
   "codemirror_mode": {
    "name": "ipython",
    "version": 3
   },
   "file_extension": ".py",
   "mimetype": "text/x-python",
   "name": "python",
   "nbconvert_exporter": "python",
   "pygments_lexer": "ipython3",
   "version": "3.6.1"
  }
 },
 "nbformat": 4,
 "nbformat_minor": 2
}
