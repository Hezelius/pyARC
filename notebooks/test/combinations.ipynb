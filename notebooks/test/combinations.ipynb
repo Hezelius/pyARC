{
 "cells": [
  {
   "cell_type": "code",
   "execution_count": 11,
   "metadata": {},
   "outputs": [
    {
     "name": "stdout",
     "output_type": "stream",
     "text": [
      "1  &  1 \\\\ \\hline\n",
      "2  &  3 \\\\ \\hline\n",
      "3  &  7 \\\\ \\hline\n",
      "4  &  15 \\\\ \\hline\n",
      "5  &  31 \\\\ \\hline\n",
      "6  &  63 \\\\ \\hline\n",
      "7  &  127 \\\\ \\hline\n",
      "8  &  255 \\\\ \\hline\n",
      "9  &  511 \\\\ \\hline\n",
      "10  &  1023 \\\\ \\hline\n",
      "11  &  2047 \\\\ \\hline\n",
      "12  &  4095 \\\\ \\hline\n",
      "13  &  8191 \\\\ \\hline\n",
      "14  &  16383 \\\\ \\hline\n"
     ]
    }
   ],
   "source": [
    "import itertools\n",
    "from itertools import chain\n",
    "\n",
    "\n",
    "items = \"abcdefghijklmn\"\n",
    "\n",
    "\n",
    "for i in range(len(items)):\n",
    "    lst = items[:i+1]\n",
    "    \n",
    "    combs = [ list(itertools.combinations(lst, length)) for length in range(1, len(lst) + 1) ] \n",
    "    \n",
    "    flatten = [ item for sublist in combs for item in sublist ]\n",
    "\n",
    "    #print(\"len:\", len(lst), \"\\t# of combs:\", len(flatten))\n",
    "    \n",
    "    print(len(lst), \" & \", len(flatten), \"\\\\\\\\ \\hline\")\n",
    "\n",
    "\n"
   ]
  }
 ],
 "metadata": {
  "kernelspec": {
   "display_name": "Python 3",
   "language": "python",
   "name": "python3"
  },
  "language_info": {
   "codemirror_mode": {
    "name": "ipython",
    "version": 3
   },
   "file_extension": ".py",
   "mimetype": "text/x-python",
   "name": "python",
   "nbconvert_exporter": "python",
   "pygments_lexer": "ipython3",
   "version": "3.6.1"
  }
 },
 "nbformat": 4,
 "nbformat_minor": 2
}
