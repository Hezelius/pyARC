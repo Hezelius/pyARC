{
 "cells": [
  {
   "cell_type": "code",
   "execution_count": 1,
   "metadata": {},
   "outputs": [],
   "source": [
    "%run ../../main.py\n",
    "\n",
    "import pyarc.qcba as qcba"
   ]
  },
  {
   "cell_type": "code",
   "execution_count": 2,
   "metadata": {},
   "outputs": [],
   "source": [
    "from pyarc.qcba.data_structures import *\n",
    "from pyarc.qcba.transforms import *\n",
    "\n"
   ]
  },
  {
   "cell_type": "code",
   "execution_count": 3,
   "metadata": {
    "collapsed": true
   },
   "outputs": [],
   "source": [
    "%run CAR_creation.ipynb"
   ]
  },
  {
   "cell_type": "code",
   "execution_count": 4,
   "metadata": {},
   "outputs": [],
   "source": [
    "qds = QuantitativeDataFrame(movies_undiscr_txns)\n",
    "\n",
    "ds = movies_undiscr_txns"
   ]
  },
  {
   "cell_type": "code",
   "execution_count": 5,
   "metadata": {},
   "outputs": [
    {
     "data": {
      "text/plain": [
       "pyarc.qcba.data_structures.quant_dataset.QuantitativeDataFrame"
      ]
     },
     "execution_count": 5,
     "metadata": {},
     "output_type": "execute_result"
    }
   ],
   "source": [
    "qds.__class__"
   ]
  },
  {
   "cell_type": "code",
   "execution_count": 6,
   "metadata": {
    "collapsed": true
   },
   "outputs": [],
   "source": [
    "??QuantitativeCAR"
   ]
  },
  {
   "cell_type": "code",
   "execution_count": 7,
   "metadata": {},
   "outputs": [],
   "source": [
    "rule_ext = RuleExtender(qds)      \n",
    "rule_trimmer = RuleTrimmer(qds)\n",
    "\n",
    "qrules = [ QuantitativeCAR(r) for r in rules ]\n",
    "\n",
    "\n",
    "extended = rule_ext.transform(qrules)\n",
    "trimmed = rule_trimmer.transform(qrules)\n"
   ]
  },
  {
   "cell_type": "code",
   "execution_count": 9,
   "metadata": {},
   "outputs": [
    {
     "name": "stdout",
     "output_type": "stream",
     "text": [
      "critical-success\n",
      "critical-success\n",
      "box-office-bomb\n",
      "box-office-bomb\n",
      "box-office-bomb\n"
     ]
    },
    {
     "data": {
      "text/plain": [
       "([CAR {a-list-celebrities=<1;2>} => {class=box-office-bomb} sup: 0.31 conf: 1.00 len: 2, id: 42,\n",
       "  CAR {a-list-celebrities=<4;5>,estimated-budget=<62;143>} => {class=main-stream-hit} sup: 0.11 conf: 1.00 len: 3, id: 10,\n",
       "  CAR {a-list-celebrities=<4;5>,estimated-budget=<10;54>} => {class=critical-success} sup: 0.11 conf: 1.00 len: 3, id: 24,\n",
       "  CAR {estimated-budget=<260;264>} => {class=main-stream-hit} sup: 0.06 conf: 1.00 len: 2, id: 4,\n",
       "  CAR {a-list-celebrities=<6;7>} => {class=critical-success} sup: 0.06 conf: 0.67 len: 2, id: 1],\n",
       " 'box-office-bomb')"
      ]
     },
     "execution_count": 9,
     "metadata": {},
     "output_type": "execute_result"
    }
   ],
   "source": [
    "from pyarc.qcba.transformation import QCBATransformation\n",
    "\n",
    "\n",
    "qcba_transform = QCBATransformation(qds)\n",
    "\n",
    "qcba_transform.transform(qrules)"
   ]
  }
 ],
 "metadata": {
  "kernelspec": {
   "display_name": "Python 3",
   "language": "python",
   "name": "python3"
  },
  "language_info": {
   "codemirror_mode": {
    "name": "ipython",
    "version": 3
   },
   "file_extension": ".py",
   "mimetype": "text/x-python",
   "name": "python",
   "nbconvert_exporter": "python",
   "pygments_lexer": "ipython3",
   "version": "3.6.1"
  }
 },
 "nbformat": 4,
 "nbformat_minor": 2
}
