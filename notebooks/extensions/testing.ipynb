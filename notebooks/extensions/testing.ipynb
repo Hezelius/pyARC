{
 "cells": [
  {
   "cell_type": "code",
   "execution_count": 1,
   "metadata": {
    "collapsed": true
   },
   "outputs": [],
   "source": [
    "%run ../../main.py"
   ]
  },
  {
   "cell_type": "code",
   "execution_count": 2,
   "metadata": {
    "collapsed": true
   },
   "outputs": [],
   "source": [
    "%matplotlib inline\n",
    "\n",
    "import pandas as pd\n",
    "import pyarc\n",
    "\n",
    "from pyarc import TransactionDB"
   ]
  },
  {
   "cell_type": "code",
   "execution_count": 3,
   "metadata": {},
   "outputs": [
    {
     "data": {
      "text/html": [
       "<div>\n",
       "<style>\n",
       "    .dataframe thead tr:only-child th {\n",
       "        text-align: right;\n",
       "    }\n",
       "\n",
       "    .dataframe thead th {\n",
       "        text-align: left;\n",
       "    }\n",
       "\n",
       "    .dataframe tbody tr th {\n",
       "        vertical-align: top;\n",
       "    }\n",
       "</style>\n",
       "<table border=\"1\" class=\"dataframe\">\n",
       "  <thead>\n",
       "    <tr style=\"text-align: right;\">\n",
       "      <th></th>\n",
       "      <th>estimated-budget</th>\n",
       "      <th>a-list-celebrities</th>\n",
       "      <th>class</th>\n",
       "    </tr>\n",
       "  </thead>\n",
       "  <tbody>\n",
       "    <tr>\n",
       "      <th>0</th>\n",
       "      <td>&lt;150;200)</td>\n",
       "      <td>&lt;0;2)</td>\n",
       "      <td>box-office-bomb</td>\n",
       "    </tr>\n",
       "    <tr>\n",
       "      <th>1</th>\n",
       "      <td>&lt;50;100)</td>\n",
       "      <td>&lt;0;2)</td>\n",
       "      <td>box-office-bomb</td>\n",
       "    </tr>\n",
       "    <tr>\n",
       "      <th>2</th>\n",
       "      <td>&lt;50;100)</td>\n",
       "      <td>&lt;0;2)</td>\n",
       "      <td>box-office-bomb</td>\n",
       "    </tr>\n",
       "    <tr>\n",
       "      <th>3</th>\n",
       "      <td>&lt;50;100)</td>\n",
       "      <td>&lt;2;4)</td>\n",
       "      <td>box-office-bomb</td>\n",
       "    </tr>\n",
       "    <tr>\n",
       "      <th>4</th>\n",
       "      <td>&lt;200;250)</td>\n",
       "      <td>&lt;0;2)</td>\n",
       "      <td>box-office-bomb</td>\n",
       "    </tr>\n",
       "  </tbody>\n",
       "</table>\n",
       "</div>"
      ],
      "text/plain": [
       "  estimated-budget a-list-celebrities            class\n",
       "0        <150;200)              <0;2)  box-office-bomb\n",
       "1         <50;100)              <0;2)  box-office-bomb\n",
       "2         <50;100)              <0;2)  box-office-bomb\n",
       "3         <50;100)              <2;4)  box-office-bomb\n",
       "4        <200;250)              <0;2)  box-office-bomb"
      ]
     },
     "execution_count": 3,
     "metadata": {},
     "output_type": "execute_result"
    }
   ],
   "source": [
    "movies_train_undiscr = pd.read_csv(\"../data/movies.csv\", sep=\";\", index_col=0)\n",
    "movies_train_discr = pd.read_csv(\"../data/movies_discr.csv\", sep=\";\", index_col=0)\n",
    "\n",
    "movies_undiscr_txns = movies_train_undiscr.reset_index()\n",
    "movies_discr_txns = TransactionDB.from_DataFrame(movies_train_discr)\n",
    "\n",
    "movies_train_discr.head()"
   ]
  },
  {
   "cell_type": "code",
   "execution_count": 30,
   "metadata": {
    "collapsed": true
   },
   "outputs": [],
   "source": [
    "from pyarc import CBA\n",
    "from pyarc.algorithms import generateCARs\n",
    "from pyarc.qcba.quant_rule import QuantClassAssociationRule\n",
    "from pyarc.qcba.rule_refitter import RuleReffiter\n",
    "\n",
    "rm = CBA(algorithm=\"m1\", confidence=0.5, support=0.05).fit(movies_discr_txns)\n",
    "\n",
    "rules = rm.clf.rules\n",
    "cars = generateCARs(movies_discr_txns)"
   ]
  },
  {
   "cell_type": "code",
   "execution_count": 31,
   "metadata": {},
   "outputs": [
    {
     "data": {
      "text/plain": [
       "<matplotlib.text.Text at 0x2ddacb89a90>"
      ]
     },
     "execution_count": 31,
     "metadata": {},
     "output_type": "execute_result"
    },
    {
     "data": {
      "image/png": "[encoded data removed]",
      "text/plain": [
       "<matplotlib.figure.Figure at 0x2ddac578128>"
      ]
     },
     "metadata": {},
     "output_type": "display_data"
    }
   ],
   "source": [
    "for r in rules:\n",
    "    plot_rule(r, plt)\n",
    "\n",
    "# data cases\n",
    "for i in range(len(x_points)):\n",
    "    plt.scatter(x_points[i], y_points[i], marker=appearance[data_class[i]][1], color=appearance[data_class[i]][0], s=60)\n",
    "\n",
    "\n",
    "# rule boundary lines\n",
    "for i, n in enumerate(x):\n",
    "    plt.axhline(y=y[i], color = \"grey\", linestyle=\"dashed\")\n",
    "    plt.axvline(x=x[i], color = \"grey\", linestyle=\"dashed\")\n",
    "\n",
    "    \n",
    "    \n",
    "plt.xlabel('Estimated Budget (1000$)')\n",
    "plt.ylabel('A-List Celebrities')"
   ]
  },
  {
   "cell_type": "code",
   "execution_count": 5,
   "metadata": {},
   "outputs": [
    {
     "data": {
      "text/plain": [
       "[CAR {a-list-celebrities=<0;2)} => {class=box-office-bomb} sup: 0.31 conf: 1.00 len: 2, id: 19,\n",
       " CAR {estimated-budget=<250;300)} => {class=main-stream-hit} sup: 0.06 conf: 1.00 len: 2, id: 0,\n",
       " CAR {a-list-celebrities=<4;6),estimated-budget=<0;50)} => {class=critical-success} sup: 0.06 conf: 1.00 len: 3, id: 10,\n",
       " CAR {estimated-budget=<200;250)} => {class=box-office-bomb} sup: 0.06 conf: 0.67 len: 2, id: 3,\n",
       " CAR {estimated-budget=<0;50)} => {class=box-office-bomb} sup: 0.14 conf: 0.62 len: 2, id: 14,\n",
       " CAR {a-list-celebrities=<4;6)} => {class=main-stream-hit} sup: 0.11 conf: 0.50 len: 2, id: 17]"
      ]
     },
     "execution_count": 5,
     "metadata": {},
     "output_type": "execute_result"
    }
   ],
   "source": [
    "rules"
   ]
  },
  {
   "cell_type": "code",
   "execution_count": 6,
   "metadata": {
    "collapsed": true
   },
   "outputs": [],
   "source": [
    "quant_rules = [ QuantClassAssociationRule(r) for r in rules ]"
   ]
  },
  {
   "cell_type": "code",
   "execution_count": 7,
   "metadata": {},
   "outputs": [
    {
     "data": {
      "text/plain": [
       "[CAR {a-list-celebrities=<0.0;2.0)} => {class=box-office-bomb} sup: 0.31 conf: 1.00 len: 2, id: 19,\n",
       " CAR {estimated-budget=<250.0;300.0)} => {class=main-stream-hit} sup: 0.06 conf: 1.00 len: 2, id: 0,\n",
       " CAR {a-list-celebrities=<4.0;6.0),estimated-budget=<0.0;50.0)} => {class=critical-success} sup: 0.06 conf: 1.00 len: 3, id: 10,\n",
       " CAR {estimated-budget=<200.0;250.0)} => {class=box-office-bomb} sup: 0.06 conf: 0.67 len: 2, id: 3,\n",
       " CAR {estimated-budget=<0.0;50.0)} => {class=box-office-bomb} sup: 0.14 conf: 0.62 len: 2, id: 14,\n",
       " CAR {a-list-celebrities=<4.0;6.0)} => {class=main-stream-hit} sup: 0.11 conf: 0.50 len: 2, id: 17]"
      ]
     },
     "execution_count": 7,
     "metadata": {},
     "output_type": "execute_result"
    }
   ],
   "source": [
    "quant_rules"
   ]
  },
  {
   "cell_type": "code",
   "execution_count": 8,
   "metadata": {},
   "outputs": [
    {
     "data": {
      "text/plain": [
       "[CAR {a-list-celebrities=<1.0;1.0>} => {class=box-office-bomb} sup: 0.31 conf: 1.00 len: 2, id: 19,\n",
       " CAR {estimated-budget=<260.0;264.0>} => {class=main-stream-hit} sup: 0.06 conf: 1.00 len: 2, id: 0,\n",
       " CAR {a-list-celebrities=<4.0;5.0>,estimated-budget=<10.0;45.0>} => {class=critical-success} sup: 0.06 conf: 1.00 len: 3, id: 10,\n",
       " CAR {estimated-budget=<202.0;223.0>} => {class=box-office-bomb} sup: 0.06 conf: 0.67 len: 2, id: 3,\n",
       " CAR {estimated-budget=<10.0;45.0>} => {class=box-office-bomb} sup: 0.14 conf: 0.62 len: 2, id: 14,\n",
       " CAR {a-list-celebrities=<4.0;5.0>} => {class=main-stream-hit} sup: 0.11 conf: 0.50 len: 2, id: 17]"
      ]
     },
     "execution_count": 8,
     "metadata": {},
     "output_type": "execute_result"
    }
   ],
   "source": [
    "rr = RuleReffiter(movies_undiscr_txns)\n",
    "rr.refit(quant_rules)"
   ]
  },
  {
   "cell_type": "code",
   "execution_count": 12,
   "metadata": {
    "collapsed": true
   },
   "outputs": [],
   "source": [
    "ds = movies_undiscr_txns"
   ]
  },
  {
   "cell_type": "code",
   "execution_count": 13,
   "metadata": {},
   "outputs": [
    {
     "data": {
      "text/plain": [
       "[CAR {a-list-celebrities=<1.0;1.0>} => {class=box-office-bomb} sup: 0.31 conf: 1.00 len: 2, id: 19,\n",
       " CAR {estimated-budget=<260.0;264.0>} => {class=main-stream-hit} sup: 0.06 conf: 1.00 len: 2, id: 0,\n",
       " CAR {a-list-celebrities=<4.0;5.0>,estimated-budget=<23.0;45.0>} => {class=critical-success} sup: 0.06 conf: 1.00 len: 3, id: 10,\n",
       " CAR {estimated-budget=<202.0;223.0>} => {class=box-office-bomb} sup: 0.06 conf: 0.67 len: 2, id: 3,\n",
       " CAR {estimated-budget=<10.0;43.0>} => {class=box-office-bomb} sup: 0.14 conf: 0.62 len: 2, id: 14,\n",
       " CAR {a-list-celebrities=<4.0;5.0>} => {class=main-stream-hit} sup: 0.11 conf: 0.50 len: 2, id: 17]"
      ]
     },
     "execution_count": 13,
     "metadata": {},
     "output_type": "execute_result"
    }
   ],
   "source": [
    "import pandas\n",
    "import numpy as np\n",
    "from pyarc.qcba.interval import Interval\n",
    "from pyarc.qcba.quant_rule import QuantClassAssociationRule\n",
    "\n",
    "\n",
    "def find_covered_by_literal(literal, dataset):\n",
    "    dataset_len = len(dataset)\n",
    "    \n",
    "    attribute, interval = literal\n",
    "    \n",
    "    current_column = dataset[[attribute]]\n",
    "        \n",
    "    satisfying_mask = interval.test_membership(current_column).reshape(dataset_len)\n",
    "        \n",
    "    instances_satisfying_antecedent = dataset[satisfying_mask]\n",
    "    \n",
    "    return instances_satisfying_antecedent\n",
    "\n",
    "\n",
    "def find_covered_by_literals(literals, dataset):\n",
    "    current_subset = dataset\n",
    "    \n",
    "    for literal in literals:\n",
    "        current_subset = find_covered_by_literal(literal, current_subset)\n",
    "        \n",
    "    return current_subset\n",
    "\n",
    "\n",
    "def calculate_rule_statistics(consequent, subset, dataset_len):\n",
    "    attribute, value = consequent\n",
    "    \n",
    "    # satisfying cosequent\n",
    "    subset_conseq = subset[[attribute]] == value\n",
    "    \n",
    "    support_abs = len(subset)\n",
    "    support = support_abs / dataset_len\n",
    "    confidence = len(subset_conseq) / support_abs\n",
    "    \n",
    "    return support, confidence\n",
    "    \n",
    "\n",
    "\n",
    "def find_covered_by_r(qrule, dataset):\n",
    "    if type(qrule) != QuantClassAssociationRule:\n",
    "        raise Exception(\"type of qrule must be QuantClassAssociationRule\")\n",
    "    \n",
    "    if type(dataset) != pandas.DataFrame:\n",
    "        raise Exception(\"type of dataset must be: pandas.DataFrame\")\n",
    "    \n",
    "    \n",
    "    dataset_len = len(dataset)\n",
    "    \n",
    "    current_mask = np.array([True] * dataset_len)\n",
    "    \n",
    "    \n",
    "    for attribute, interval in qrule.new_antecedent:\n",
    "        current_column = dataset[[attribute]]\n",
    "        \n",
    "        satisfying_mask = interval.test_membership(current_column).reshape(dataset_len)\n",
    "        \n",
    "        current_mask &= satisfying_mask\n",
    "        \n",
    "    \n",
    "    instances_satisfying_antecedent = dataset[current_mask]\n",
    "    \n",
    "    return instances_satisfying_antecedent\n",
    "\n",
    "\n",
    "\n",
    "    \n",
    "        \n",
    "def find_correctly_covered(qrule, dataset):\n",
    "    if type(qrule) != QuantClassAssociationRule:\n",
    "        raise Exception(\"type of qrule must be QuantClassAssociationRule\")\n",
    "    \n",
    "    if type(dataset) != pandas.DataFrame:\n",
    "        raise Exception(\"type of dataset must be: pandas.DataFrame\")\n",
    "        \n",
    "        \n",
    "    instances_satisfying_antecedent = find_covered_by_r(qrule, dataset)\n",
    "    \n",
    "    class_name, class_value = qrule.rule.consequent\n",
    "    \n",
    "    # mask of rules which satisfy both antecedent\n",
    "    # and cosequent\n",
    "    mask = instances_satisfying_antecedent[[class_name]].values == class_value\n",
    "    \n",
    "    instances_satisfying_consequent = instances_satisfying_antecedent[mask]\n",
    "    \n",
    "    # calculate_rule_statistics\n",
    "    dataset_len = len(dataset)\n",
    "    support_abs = len(instances_satisfying_antecedent)\n",
    "    support = support_abs / dataset_len\n",
    "    confidence = len(instances_satisfying_consequent) / support_abs\n",
    "    \n",
    "    \n",
    "    return instances_satisfying_consequent, support, confidence\n",
    "        \n",
    "        \n",
    "\n",
    "def trim_rule(qrule, dataset):\n",
    "    if type(qrule) != QuantClassAssociationRule:\n",
    "        raise Exception(\"type of qrule must be QuantClassAssociationRule\")\n",
    "    \n",
    "    if type(dataset) != pandas.DataFrame:\n",
    "        raise Exception(\"type of dataset must be: pandas.DataFrame\")\n",
    "        \n",
    "    correctly_covered_by_r, _, _ = find_correctly_covered(qrule, dataset)\n",
    "    antecedent = qrule.new_antecedent\n",
    "    \n",
    "    for idx, literal in enumerate(antecedent):\n",
    "        \n",
    "        attribute, value = literal\n",
    "        current_column = correctly_covered_by_r[[attribute]].values\n",
    "        \n",
    "\n",
    "        minv = np.asscalar(min(current_column))\n",
    "        maxv = np.asscalar(max(current_column))\n",
    "        \n",
    "        new_interval = Interval.from_scalars(minv, maxv, True, True)\n",
    "        \n",
    "        antecedent[idx] = attribute, new_interval\n",
    "    \n",
    "    return qrule\n",
    "\n",
    "\n",
    "def trim_rules(rules, dataset):\n",
    "    return [ trim_rule(r, dataset) for r in rules ]\n",
    "\n",
    "        \n",
    "        \n",
    "        \n",
    "        \n",
    "qr = quant_rules[0]\n",
    "\n",
    "trim_rules(quant_rules, ds)"
   ]
  },
  {
   "cell_type": "code",
   "execution_count": 18,
   "metadata": {},
   "outputs": [
    {
     "name": "stdout",
     "output_type": "stream",
     "text": [
      "CAR {a-list-celebrities=<1.0;1.0>} => {class=box-office-bomb} sup: 0.31 conf: 1.00 len: 2, id: 19\n",
      "CAR {estimated-budget=<260.0;264.0>} => {class=main-stream-hit} sup: 0.06 conf: 1.00 len: 2, id: 0\n",
      "CAR {a-list-celebrities=<4.0;5.0>,estimated-budget=<23.0;45.0>} => {class=critical-success} sup: 0.06 conf: 1.00 len: 3, id: 10\n",
      "CAR {estimated-budget=<202.0;223.0>} => {class=box-office-bomb} sup: 0.06 conf: 0.67 len: 2, id: 3\n",
      "CAR {estimated-budget=<10.0;43.0>} => {class=box-office-bomb} sup: 0.14 conf: 0.62 len: 2, id: 14\n",
      "CAR {a-list-celebrities=<4.0;5.0>} => {class=main-stream-hit} sup: 0.11 conf: 0.50 len: 2, id: 17\n"
     ]
    },
    {
     "data": {
      "text/plain": [
       "[None, None, None, None, None, None]"
      ]
     },
     "execution_count": 18,
     "metadata": {},
     "output_type": "execute_result"
    }
   ],
   "source": [
    "def produce_combinations(array):\n",
    "    arr_len = len(array)\n",
    "    \n",
    "    for i in range(arr_len):\n",
    "        combination = array[0:i] + array[i+1:arr_len]\n",
    "        \n",
    "        yield combination\n",
    "    \n",
    "#a = [1, 2, 3, 4, 5, 6]    \n",
    "#list(produce_combinations(a))    \n",
    "\n",
    "\n",
    "def prune_literals(qrule, dataset):\n",
    "    attr_removed = False\n",
    "    \n",
    "    literals = qrule.new_antecedent\n",
    "    consequent = qrule.rule.consequent\n",
    "    dataset_len = len(dataset)\n",
    "    \n",
    "    current_conf = qrule.rule.confidence\n",
    "    \n",
    "    if len(literals) < 1:\n",
    "        return qrule\n",
    "    \n",
    "    while True:\n",
    "        for literals_combination in produce_combinations(literals):\n",
    "            if not literals_combination:\n",
    "                continue\n",
    "                \n",
    "            antecedent_covered = find_covered_by_literals(literals_combination, dataset)\n",
    "            support, confidence = calculate_rule_statistics(consequent, antecedent_covered, dataset_len)\n",
    "            \n",
    "            if confidence > qrule.rule.confidence:\n",
    "                qrule.rule.support = support\n",
    "                qrule.rule.confidence = confidence\n",
    "                \n",
    "                qrule.new_antecedent = literals_combination\n",
    "                \n",
    "                attr_removed = True\n",
    "                break\n",
    "        \n",
    "        if attr_removed == False:\n",
    "            break\n",
    "    \n",
    "prune_literals(quant_rules[2], ds)\n",
    "    \n",
    "    \n",
    "[ prune_literals(qr, ds) for qr in quant_rules ]\n",
    "\n",
    "[ print(qr) for qr in quant_rules ]"
   ]
  },
  {
   "cell_type": "code",
   "execution_count": 19,
   "metadata": {},
   "outputs": [
    {
     "data": {
      "text/html": [
       "<div>\n",
       "<style>\n",
       "    .dataframe thead tr:only-child th {\n",
       "        text-align: right;\n",
       "    }\n",
       "\n",
       "    .dataframe thead th {\n",
       "        text-align: left;\n",
       "    }\n",
       "\n",
       "    .dataframe tbody tr th {\n",
       "        vertical-align: top;\n",
       "    }\n",
       "</style>\n",
       "<table border=\"1\" class=\"dataframe\">\n",
       "  <thead>\n",
       "    <tr style=\"text-align: right;\">\n",
       "      <th></th>\n",
       "      <th>estimated-budget</th>\n",
       "      <th>a-list-celebrities</th>\n",
       "      <th>class</th>\n",
       "    </tr>\n",
       "  </thead>\n",
       "  <tbody>\n",
       "    <tr>\n",
       "      <th>27</th>\n",
       "      <td>45</td>\n",
       "      <td>4</td>\n",
       "      <td>critical-success</td>\n",
       "    </tr>\n",
       "    <tr>\n",
       "      <th>28</th>\n",
       "      <td>35</td>\n",
       "      <td>5</td>\n",
       "      <td>critical-success</td>\n",
       "    </tr>\n",
       "    <tr>\n",
       "      <th>34</th>\n",
       "      <td>23</td>\n",
       "      <td>5</td>\n",
       "      <td>critical-success</td>\n",
       "    </tr>\n",
       "  </tbody>\n",
       "</table>\n",
       "</div>"
      ],
      "text/plain": [
       "    estimated-budget  a-list-celebrities             class\n",
       "27                45                   4  critical-success\n",
       "28                35                   5  critical-success\n",
       "34                23                   5  critical-success"
      ]
     },
     "execution_count": 19,
     "metadata": {},
     "output_type": "execute_result"
    }
   ],
   "source": [
    "ant = quant_rules[2].new_antecedent\n",
    "\n",
    "find_covered_by_literals(ant, ds)"
   ]
  },
  {
   "cell_type": "code",
   "execution_count": 21,
   "metadata": {},
   "outputs": [
    {
     "data": {
      "text/plain": [
       "[CAR {a-list-celebrities=<0;2)} => {class=box-office-bomb} sup: 0.31 conf: 1.00 len: 2, id: 90,\n",
       " CAR {a-list-celebrities=<0;2),estimated-budget=<0;50)} => {class=box-office-bomb} sup: 0.11 conf: 1.00 len: 3, id: 83,\n",
       " CAR {a-list-celebrities=<0;2),estimated-budget=<50;100)} => {class=box-office-bomb} sup: 0.09 conf: 1.00 len: 3, id: 89,\n",
       " CAR {estimated-budget=<250;300)} => {class=main-stream-hit} sup: 0.06 conf: 1.00 len: 2, id: 71,\n",
       " CAR {a-list-celebrities=<0;2),estimated-budget=<150;200)} => {class=box-office-bomb} sup: 0.06 conf: 1.00 len: 3, id: 80,\n",
       " CAR {a-list-celebrities=<4;6),estimated-budget=<0;50)} => {class=critical-success} sup: 0.06 conf: 1.00 len: 3, id: 81,\n",
       " CAR {estimated-budget=<200;250)} => {class=box-office-bomb} sup: 0.06 conf: 0.67 len: 2, id: 74,\n",
       " CAR {a-list-celebrities=<4;6),estimated-budget=<50;100)} => {class=critical-success} sup: 0.06 conf: 0.67 len: 3, id: 86,\n",
       " CAR {estimated-budget=<0;50)} => {class=box-office-bomb} sup: 0.14 conf: 0.62 len: 2, id: 85,\n",
       " CAR {a-list-celebrities=<4;6)} => {class=critical-success} sup: 0.11 conf: 0.50 len: 2, id: 87,\n",
       " CAR {a-list-celebrities=<4;6)} => {class=main-stream-hit} sup: 0.11 conf: 0.50 len: 2, id: 88,\n",
       " CAR {estimated-budget=<100;150)} => {class=main-stream-hit} sup: 0.06 conf: 0.50 len: 2, id: 76,\n",
       " CAR {estimated-budget=<100;150)} => {class=box-office-bomb} sup: 0.06 conf: 0.50 len: 2, id: 78,\n",
       " CAR {a-list-celebrities=<2;4),estimated-budget=<150;200)} => {class=critical-success} sup: 0.06 conf: 0.50 len: 3, id: 79,\n",
       " CAR {a-list-celebrities=<2;4),estimated-budget=<50;100)} => {class=box-office-bomb} sup: 0.06 conf: 0.50 len: 3, id: 91,\n",
       " CAR {a-list-celebrities=<2;4),estimated-budget=<200;250)} => {class=main-stream-hit} sup: 0.03 conf: 0.50 len: 3, id: 72,\n",
       " CAR {a-list-celebrities=<2;4),estimated-budget=<200;250)} => {class=box-office-bomb} sup: 0.03 conf: 0.50 len: 3, id: 73,\n",
       " CAR {estimated-budget=<100;150),a-list-celebrities=<2;4)} => {class=main-stream-hit} sup: 0.03 conf: 0.50 len: 3, id: 75,\n",
       " CAR {estimated-budget=<100;150),a-list-celebrities=<2;4)} => {class=box-office-bomb} sup: 0.03 conf: 0.50 len: 3, id: 77,\n",
       " CAR {a-list-celebrities=<2;4),estimated-budget=<0;50)} => {class=critical-success} sup: 0.03 conf: 0.50 len: 3, id: 82,\n",
       " CAR {a-list-celebrities=<2;4),estimated-budget=<0;50)} => {class=box-office-bomb} sup: 0.03 conf: 0.50 len: 3, id: 84]"
      ]
     },
     "execution_count": 21,
     "metadata": {},
     "output_type": "execute_result"
    }
   ],
   "source": [
    "from pyarc import CBA\n",
    "from pyarc.algorithms import generateCARs, M1Algorithm, M2Algorithm\n",
    "from pyarc.algorithms import createCARs\n",
    "\n",
    "\n",
    "\n",
    "import matplotlib.pyplot as plt\n",
    "import matplotlib.patches as patches\n",
    "\n",
    "from itertools import combinations\n",
    "\n",
    "import itertools\n",
    "import pandas as pd\n",
    "import numpy\n",
    "import re\n",
    "\n",
    "movies = pd.read_csv(\"../data/movies.csv\", sep=\";\")\n",
    "movies_discr = movies.copy(True)\n",
    "\n",
    "\n",
    "\n",
    "transactionDB = TransactionDB.from_DataFrame(movies_discr, unique_transactions=True)\n",
    "\n",
    "rules = generateCARs(transactionDB, support=5, confidence=50)\n",
    "\n",
    "movies_vals = movies.get_values()\n",
    "\n",
    "\n",
    "x = range(0, 350, 50)\n",
    "y = range(1, 9)\n",
    "\n",
    "\n",
    "x_points = list(map(lambda n: n[0], movies_vals))\n",
    "y_points = list(map(lambda n: n[1], movies_vals))\n",
    "data_class = list(movies['class'])\n",
    "appearance = {\n",
    "    'box-office-bomb': ('brown', \"o\"),\n",
    "    'main-stream-hit': ('blue', \"o\"),\n",
    "    'critical-success': ('green', \"o\")\n",
    "}\n",
    "rule_appearance = {\n",
    "    'box-office-bomb': 'tan',\n",
    "    'main-stream-hit': 'aqua',\n",
    "    'critical-success': 'lightgreen'\n",
    "}\n",
    "\n",
    "\n",
    "plt.style.use('seaborn-white')\n",
    "rules"
   ]
  },
  {
   "cell_type": "code",
   "execution_count": 28,
   "metadata": {
    "collapsed": true
   },
   "outputs": [],
   "source": [
    "def plot_qrule(qrule, plt):\n",
    "    interval_regex = \"(?:<|\\()(\\d+(?:\\.(?:\\d)+)?);(\\d+(?:\\.(?:\\d)+)?)(?:\\)|>)\"\n",
    "    \n",
    "    lower_y = 0\n",
    "    area_y = celebrities_bins[-1]\n",
    "    \n",
    "    lower_x = 0\n",
    "    area_x = budget_bins[-1]\n",
    "    \n",
    "    antecedent = qrule.new_antecedent\n",
    "    \n",
    "    \n",
    "    if len(antecedent) != 0:\n",
    "        if antecedent[0][0] == \"a-list-celebrities\":\n",
    "            y = antecedent[0]\n",
    "            y_boundaries = re.search(interval_regex, y[1].string())\n",
    "            lower_y = float(y_boundaries.group(1))\n",
    "            upper_y = float(y_boundaries.group(2))\n",
    "            area_y = upper_y - lower_y\n",
    "\n",
    "            axis = plt.gca()\n",
    "        else:\n",
    "            x = antecedent[0]\n",
    "            x_boundaries = re.search(interval_regex, x[1].string())\n",
    "            lower_x = float(x_boundaries.group(1))\n",
    "            upper_x = float(x_boundaries.group(2))\n",
    "            area_x = upper_x - lower_x\n",
    "        \n",
    "    if len(antecedent) > 1:\n",
    "        if antecedent[1][0] == \"a-list-celebrities\":\n",
    "            y = antecedent[0]\n",
    "            y_boundaries = re.search(interval_regex, y[1].string())\n",
    "            lower_y = float(y_boundaries.group(1))\n",
    "            upper_y = float(y_boundaries.group(2))\n",
    "            area_y = upper_y - lower_y\n",
    "\n",
    "            axis = plt.gca()\n",
    "        else:\n",
    "            x = antecedent[1]\n",
    "            x_boundaries = re.search(interval_regex, x[1].string())\n",
    "            lower_x = float(x_boundaries.group(1))\n",
    "            upper_x = float(x_boundaries.group(2))\n",
    "            area_x = upper_x - lower_x\n",
    "            \n",
    "    \n",
    "    axis = plt.gca()\n",
    "\n",
    "    class_name = qrule.rule.consequent[1]\n",
    "    \n",
    "    axis.add_patch(\n",
    "       patches.Rectangle((lower_x, lower_y), area_x, area_y, zorder=-2, facecolor=rule_appearance[class_name], alpha=qrule.rule.confidence)\n",
    "    )\n"
   ]
  },
  {
   "cell_type": "code",
   "execution_count": 29,
   "metadata": {},
   "outputs": [
    {
     "data": {
      "text/plain": [
       "<matplotlib.text.Text at 0x2ddaca08898>"
      ]
     },
     "execution_count": 29,
     "metadata": {},
     "output_type": "execute_result"
    },
    {
     "data": {
      "image/png": "[encoded data removed]",
      "text/plain": [
       "<matplotlib.figure.Figure at 0x2ddac699c88>"
      ]
     },
     "metadata": {},
     "output_type": "display_data"
    }
   ],
   "source": [
    "for r in quant_rules:\n",
    "    plot_qrule(r, plt)\n",
    "\n",
    "# data cases\n",
    "for i in range(len(x_points)):\n",
    "    plt.scatter(x_points[i], y_points[i], marker=appearance[data_class[i]][1], color=appearance[data_class[i]][0], s=60)\n",
    "\n",
    "\n",
    "# rule boundary lines\n",
    "for i, n in enumerate(x):\n",
    "    plt.axhline(y=y[i], color = \"grey\", linestyle=\"dashed\")\n",
    "    plt.axvline(x=x[i], color = \"grey\", linestyle=\"dashed\")\n",
    "\n",
    "    \n",
    "    \n",
    "plt.xlabel('Estimated Budget (1000$)')\n",
    "plt.ylabel('A-List Celebrities')"
   ]
  }
 ],
 "metadata": {
  "kernelspec": {
   "display_name": "Python 3",
   "language": "python",
   "name": "python3"
  },
  "language_info": {
   "codemirror_mode": {
    "name": "ipython",
    "version": 3
   },
   "file_extension": ".py",
   "mimetype": "text/x-python",
   "name": "python",
   "nbconvert_exporter": "python",
   "pygments_lexer": "ipython3",
   "version": "3.6.1"
  }
 },
 "nbformat": 4,
 "nbformat_minor": 2
}
