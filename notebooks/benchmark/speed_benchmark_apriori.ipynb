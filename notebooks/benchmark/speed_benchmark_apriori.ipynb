{
 "cells": [
  {
   "cell_type": "code",
   "execution_count": 8,
   "metadata": {
    "collapsed": true
   },
   "outputs": [],
   "source": [
    "%run ../../main.py\n",
    "%matplotlib inline"
   ]
  },
  {
   "cell_type": "code",
   "execution_count": 9,
   "metadata": {
    "collapsed": true
   },
   "outputs": [],
   "source": [
    "import pandas as pd\n",
    "import fim\n",
    "\n",
    "from cba.algorithms import generateCARs, apriori, top_rules\n",
    "from cba.data_structures import TransactionDB"
   ]
  },
  {
   "cell_type": "code",
   "execution_count": 19,
   "metadata": {},
   "outputs": [
    {
     "name": "stdout",
     "output_type": "stream",
     "text": [
      "data_count: 260\n",
      "apriori_duration: 0.9702074527740479\n",
      "\n",
      "\n",
      "\n",
      "data_count: 520\n",
      "apriori_duration: 1.212881326675415\n",
      "\n",
      "\n",
      "\n",
      "data_count: 1040\n",
      "apriori_duration: 1.0452609062194824\n",
      "\n",
      "\n",
      "\n",
      "data_count: 2080\n",
      "apriori_duration: 1.14225172996521\n",
      "\n",
      "\n",
      "\n",
      "data_count: 4160\n",
      "apriori_duration: 1.2013728618621826\n",
      "\n",
      "\n",
      "\n",
      "data_count: 8320\n",
      "apriori_duration: 1.41654634475708\n",
      "\n",
      "\n",
      "\n",
      "data_count: 16640\n",
      "apriori_duration: 2.3842246532440186\n",
      "\n",
      "\n",
      "\n",
      "data_count: 33280\n",
      "apriori_duration: 3.8913514614105225\n",
      "\n",
      "\n",
      "\n",
      "data_count: 66560\n",
      "apriori_duration: 5.988758087158203\n",
      "\n",
      "\n",
      "\n",
      "data_count: 133120\n",
      "apriori_duration: 13.685770511627197\n",
      "\n",
      "\n",
      "\n"
     ]
    }
   ],
   "source": [
    "#\n",
    "#\n",
    "# =========================\n",
    "# Oveření běhu v závislosti na vložených pravidlech / instancích\n",
    "# =========================\n",
    "#\n",
    "#\n",
    "#\n",
    "\n",
    "import time\n",
    "\n",
    "benchmark_data = {\n",
    "    \"data_count\": [],\n",
    "    \"apriori_duration\": []\n",
    "}\n",
    "\n",
    "stop_m2 = False\n",
    "\n",
    "number_of_iterations = 10\n",
    "\n",
    "dataset_name_benchmark = \"lymph0\"\n",
    "\n",
    "pd_ds = pd_ds = pd.read_csv(\"c:/code/python/machine_learning/assoc_rules/train/{}.csv\".format(dataset_name_benchmark))\n",
    "\n",
    "for i in range(10):\n",
    "    dataset_name_benchmark = \"lymph0\"\n",
    "    \n",
    "    pd_ds = pd.concat([pd_ds, pd_ds])\n",
    "    \n",
    "    txns = TransactionDB.from_pandasdf(pd_ds)\n",
    "    \n",
    "    \n",
    "\n",
    "    apriori_t1 = time.time()\n",
    "    for _ in range(number_of_iterations):\n",
    "        rules = fim.apriori(txns.string_representation, supp=20, conf=50, target=\"r\", report=\"sc\", appear=txns.appeardict)\n",
    "    \n",
    "    apriori_proctime = time.time() - apriori_t1\n",
    "    \n",
    "    \n",
    "     \n",
    "    benchmark_data[\"data_count\"].append(len(txns))\n",
    "    benchmark_data[\"apriori_duration\"].append(apriori_proctime)\n",
    "\n",
    "    print(\"data_count:\", len(txns))\n",
    "    print(\"apriori_duration:\", apriori_proctime)\n",
    "    print(\"\\n\\n\")"
   ]
  },
  {
   "cell_type": "code",
   "execution_count": 18,
   "metadata": {},
   "outputs": [
    {
     "data": {
      "text/plain": [
       "<matplotlib.axes._subplots.AxesSubplot at 0x221dad10630>"
      ]
     },
     "execution_count": 18,
     "metadata": {},
     "output_type": "execute_result"
    },
    {
     "data": {
      "image/png": "[encoded data removed]",
      "text/plain": [
       "<matplotlib.figure.Figure at 0x221bf341630>"
      ]
     },
     "metadata": {},
     "output_type": "display_data"
    }
   ],
   "source": [
    "benchmark_df = pd.DataFrame(benchmark_data)\n",
    "\n",
    "\n",
    "benchmark_df.plot(x=[\"data_count\"], y=[\"apriori_duration\"]).savefig"
   ]
  }
 ],
 "metadata": {
  "kernelspec": {
   "display_name": "Python 3",
   "language": "python",
   "name": "python3"
  },
  "language_info": {
   "codemirror_mode": {
    "name": "ipython",
    "version": 3
   },
   "file_extension": ".py",
   "mimetype": "text/x-python",
   "name": "python",
   "nbconvert_exporter": "python",
   "pygments_lexer": "ipython3",
   "version": "3.6.1"
  }
 },
 "nbformat": 4,
 "nbformat_minor": 2
}
