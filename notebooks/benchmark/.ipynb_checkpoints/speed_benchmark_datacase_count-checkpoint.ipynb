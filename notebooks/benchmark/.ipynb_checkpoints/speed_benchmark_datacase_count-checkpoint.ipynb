{
 "cells": [
  {
   "cell_type": "code",
   "execution_count": 1,
   "metadata": {
    "collapsed": true
   },
   "outputs": [],
   "source": [
    "%run ../../main.py\n",
    "%matplotlib inline"
   ]
  },
  {
   "cell_type": "code",
   "execution_count": 2,
   "metadata": {
    "collapsed": true
   },
   "outputs": [],
   "source": [
    "import pandas as pd\n",
    "\n",
    "from cba.algorithms import M1Algorithm, M2Algorithm, top_rules, createCARs \n",
    "from cba.data_structures import TransactionDB"
   ]
  },
  {
   "cell_type": "code",
   "execution_count": 7,
   "metadata": {},
   "outputs": [
    {
     "ename": "SyntaxError",
     "evalue": "invalid syntax (<ipython-input-7-2a0b1bbf350e>, line 50)",
     "output_type": "error",
     "traceback": [
      "\u001b[1;36m  File \u001b[1;32m\"<ipython-input-7-2a0b1bbf350e>\"\u001b[1;36m, line \u001b[1;32m50\u001b[0m\n\u001b[1;33m    :::\u001b[0m\n\u001b[1;37m    ^\u001b[0m\n\u001b[1;31mSyntaxError\u001b[0m\u001b[1;31m:\u001b[0m invalid syntax\n"
     ]
    }
   ],
   "source": [
    "#\n",
    "#\n",
    "# =========================\n",
    "# Oveření běhu v závislosti na vložených pravidlech / instancích\n",
    "# =========================\n",
    "#\n",
    "#\n",
    "#\n",
    "\n",
    "import time\n",
    "\n",
    "rule_count = 50\n",
    "\n",
    "benchmark_data = {\n",
    "    \"data_count\": [],\n",
    "    \"M1_duration\": [],\n",
    "    \"M2_duration\": []\n",
    "}\n",
    "\n",
    "number_of_iterations = 10\n",
    "\n",
    "directory = \"c:/code/python/machine_learning/assoc_rules\"\n",
    "\n",
    "dataset_name_benchmark = \"lymph0\"\n",
    "\n",
    "pd_ds = pd_ds = pd.read_csv(\"c:/code/python/machine_learning/assoc_rules/train/{}.csv\".format(dataset_name_benchmark))\n",
    "\n",
    "for i in range(11):\n",
    "    dataset_name_benchmark = \"lymph0\"\n",
    "    \n",
    "    pd_ds = pd.concat([pd_ds, pd_ds])\n",
    "    \n",
    "    txns = TransactionDB.from_pandasdf(pd_ds)\n",
    "    \n",
    "    rules = top_rules(txns.string_representation, appearance=txns.appeardict, target_rule_count=rule_count)\n",
    "\n",
    "    cars = createCARs(rules)\n",
    "     \n",
    "    if len(cars) > rule_count:\n",
    "        cars = cars[:rule_count]    \n",
    "\n",
    "        \n",
    "    m1t1 = time.time()\n",
    "    for _ in range(number_of_iterations):\n",
    "        m1 = M1Algorithm(cars, txns)\n",
    "        clf = m1.build()\n",
    "    \n",
    "    m1t2 = time.time()\n",
    "    \n",
    "    \"\"\"\n",
    "    m2t1 = time.time()\n",
    "    for _ in range(number_of_iterations):\n",
    "        m2 = M2Algorithm(cars, txns)\n",
    "        clf = m2.build()\n",
    "    \n",
    "    m2t2 = time.time()\n",
    "    \"\"\"\n",
    "     \n",
    "    m1duration = (m1t2 - m1t1) / number_of_iterations\n",
    "    #m2duration = (m2t2 - m2t1) / number_of_iterations\n",
    "    \n",
    "    benchmark_data[\"data_count\"].append(len(txns))\n",
    "    benchmark_data[\"M1_duration\"].append(m1duration)\n",
    "    #benchmark_data[\"M2_duration\"].append(m2duration)\n",
    "\n",
    "    print(\"data_count:\", len(txns))\n",
    "    print(\"M1 duration:\", m1duration)\n",
    "    #print(\"M2 duration:\", m2duration)\n",
    "    print(\"\\n\\n\")"
   ]
  }
 ],
 "metadata": {
  "kernelspec": {
   "display_name": "Python 3",
   "language": "python",
   "name": "python3"
  },
  "language_info": {
   "codemirror_mode": {
    "name": "ipython",
    "version": 3
   },
   "file_extension": ".py",
   "mimetype": "text/x-python",
   "name": "python",
   "nbconvert_exporter": "python",
   "pygments_lexer": "ipython3",
   "version": "3.6.1"
  }
 },
 "nbformat": 4,
 "nbformat_minor": 2
}
