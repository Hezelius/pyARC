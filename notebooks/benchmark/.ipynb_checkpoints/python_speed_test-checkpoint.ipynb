{
 "cells": [
  {
   "cell_type": "code",
   "execution_count": 8,
   "metadata": {},
   "outputs": [
    {
     "name": "stdout",
     "output_type": "stream",
     "text": [
      "87 ms ± 8.51 ms per loop (mean ± std. dev. of 7 runs, 10 loops each)\n"
     ]
    }
   ],
   "source": [
    "def simpleloop():\n",
    "    for i in range(1000):\n",
    "        for j in range(1000):\n",
    "            i + j\n",
    "            \n",
    "            \n",
    "%timeit simpleloop()"
   ]
  },
  {
   "cell_type": "code",
   "execution_count": 12,
   "metadata": {},
   "outputs": [
    {
     "name": "stdout",
     "output_type": "stream",
     "text": [
      "3.67 s ± 603 ms per loop (mean ± std. dev. of 7 runs, 1 loop each)\n"
     ]
    }
   ],
   "source": [
    "def setloop():\n",
    "    for i in range(1000):\n",
    "        for j in range(1000):\n",
    "            a = range(10)\n",
    "            b = range(10)\n",
    "            \n",
    "            c = set(a)\n",
    "            d = set(b)\n",
    "            \n",
    "            e = c | d\n",
    "            f = c & d\n",
    "            \n",
    "            g = len(e)\n",
    "            h = len(f)\n",
    "            \n",
    "            \n",
    "%timeit setloop()"
   ]
  },
  {
   "cell_type": "code",
   "execution_count": 11,
   "metadata": {
    "collapsed": true
   },
   "outputs": [],
   "source": []
  }
 ],
 "metadata": {
  "kernelspec": {
   "display_name": "Python 3",
   "language": "python",
   "name": "python3"
  },
  "language_info": {
   "codemirror_mode": {
    "name": "ipython",
    "version": 3
   },
   "file_extension": ".py",
   "mimetype": "text/x-python",
   "name": "python",
   "nbconvert_exporter": "python",
   "pygments_lexer": "ipython3",
   "version": "3.6.1"
  }
 },
 "nbformat": 4,
 "nbformat_minor": 2
}
