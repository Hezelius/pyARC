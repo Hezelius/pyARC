{
 "cells": [
  {
   "cell_type": "code",
   "execution_count": 3,
   "metadata": {
    "collapsed": true
   },
   "outputs": [],
   "source": [
    "%run ../../main.py\n",
    "%matplotlib inline"
   ]
  },
  {
   "cell_type": "code",
   "execution_count": 4,
   "metadata": {},
   "outputs": [],
   "source": [
    "import pandas as pd\n",
    "\n",
    "from cba.algorithms import M1Algorithm, M2Algorithm, top_rules, createCARs \n",
    "from cba.data_structures import TransactionDB"
   ]
  },
  {
   "cell_type": "code",
   "execution_count": 9,
   "metadata": {},
   "outputs": [
    {
     "name": "stdout",
     "output_type": "stream",
     "text": [
      "Running apriori with setting: confidence=0.5, support=0.0, minlen=2, maxlen=3, MAX_RULE_LEN=19\n",
      "Rule count: 2266, Iteration: 1\n",
      "Target rule count satisfied: 100\n",
      "data_count: 260\n",
      "M1 duration: 0.01953581174214681\n",
      "M1 unique duration 0.021085572242736817\n",
      "M1 output rules 25.0\n",
      "M2 duration: 0.04892378648122152\n",
      "M2 output rules 25.0\n",
      "\n",
      "\n",
      "\n",
      "Running apriori with setting: confidence=0.5, support=0.0, minlen=2, maxlen=3, MAX_RULE_LEN=19\n",
      "Rule count: 2266, Iteration: 1\n",
      "Target rule count satisfied: 100\n",
      "data_count: 520\n",
      "M1 duration: 0.03185047308603923\n",
      "M1 unique duration 0.026241016387939454\n",
      "M1 output rules 25.0\n",
      "M2 duration: 0.09020005861918132\n",
      "M2 output rules 25.0\n",
      "\n",
      "\n",
      "\n",
      "Running apriori with setting: confidence=0.5, support=0.0, minlen=2, maxlen=3, MAX_RULE_LEN=19\n",
      "Rule count: 2266, Iteration: 1\n",
      "Target rule count satisfied: 100\n",
      "data_count: 1040\n",
      "M1 duration: 0.059152650833129886\n",
      "M1 unique duration 0.04903545379638672\n",
      "M1 output rules 25.0\n",
      "M2 duration: 0.17896058559417724\n",
      "M2 output rules 25.0\n",
      "\n",
      "\n",
      "\n",
      "Running apriori with setting: confidence=0.5, support=0.0, minlen=2, maxlen=3, MAX_RULE_LEN=19\n",
      "Rule count: 2266, Iteration: 1\n",
      "Target rule count satisfied: 100\n",
      "data_count: 2080\n",
      "M1 duration: 0.12779227097829182\n",
      "M1 unique duration 0.09229501088460286\n",
      "M1 output rules 25.0\n",
      "M2 duration: 0.36010762055714923\n",
      "M2 output rules 25.0\n",
      "\n",
      "\n",
      "\n",
      "Running apriori with setting: confidence=0.5, support=0.0, minlen=2, maxlen=3, MAX_RULE_LEN=19\n",
      "Rule count: 2266, Iteration: 1\n",
      "Target rule count satisfied: 100\n",
      "data_count: 4160\n",
      "M1 duration: 0.27076652844746907\n",
      "M1 unique duration 0.17886024316151936\n",
      "M1 output rules 25.0\n",
      "\n",
      "\n",
      "\n",
      "Running apriori with setting: confidence=0.5, support=0.0, minlen=2, maxlen=3, MAX_RULE_LEN=19\n",
      "Rule count: 2266, Iteration: 1\n",
      "Target rule count satisfied: 100\n",
      "data_count: 8320\n",
      "M1 duration: 0.7026970227559407\n",
      "M1 unique duration 0.5055463631947835\n",
      "M1 output rules 25.0\n",
      "\n",
      "\n",
      "\n",
      "Running apriori with setting: confidence=0.5, support=0.0, minlen=2, maxlen=3, MAX_RULE_LEN=19\n",
      "Rule count: 2266, Iteration: 1\n",
      "Target rule count satisfied: 100\n",
      "data_count: 16640\n",
      "M1 duration: 1.3627620538075764\n",
      "M1 unique duration 0.6936919291814169\n",
      "M1 output rules 25.0\n",
      "\n",
      "\n",
      "\n",
      "Running apriori with setting: confidence=0.5, support=0.0, minlen=2, maxlen=3, MAX_RULE_LEN=19\n",
      "Rule count: 2266, Iteration: 1\n",
      "Target rule count satisfied: 100\n"
     ]
    },
    {
     "ename": "KeyboardInterrupt",
     "evalue": "",
     "output_type": "error",
     "traceback": [
      "\u001b[1;31m---------------------------------------------------------------------------\u001b[0m",
      "\u001b[1;31mKeyboardInterrupt\u001b[0m                         Traceback (most recent call last)",
      "\u001b[1;32m<ipython-input-9-50a56ed78e55>\u001b[0m in \u001b[0;36m<module>\u001b[1;34m()\u001b[0m\n\u001b[0;32m     64\u001b[0m     \u001b[1;32mfor\u001b[0m \u001b[0m_\u001b[0m \u001b[1;32min\u001b[0m \u001b[0mrange\u001b[0m\u001b[1;33m(\u001b[0m\u001b[0mnumber_of_iterations\u001b[0m\u001b[1;33m)\u001b[0m\u001b[1;33m:\u001b[0m\u001b[1;33m\u001b[0m\u001b[0m\n\u001b[0;32m     65\u001b[0m         \u001b[0mm1\u001b[0m \u001b[1;33m=\u001b[0m \u001b[0mM1Algorithm\u001b[0m\u001b[1;33m(\u001b[0m\u001b[0mcars\u001b[0m\u001b[1;33m,\u001b[0m \u001b[0mtxns_unique\u001b[0m\u001b[1;33m)\u001b[0m\u001b[1;33m\u001b[0m\u001b[0m\n\u001b[1;32m---> 66\u001b[1;33m         \u001b[0mclf\u001b[0m \u001b[1;33m=\u001b[0m \u001b[0mm1\u001b[0m\u001b[1;33m.\u001b[0m\u001b[0mbuild\u001b[0m\u001b[1;33m(\u001b[0m\u001b[1;33m)\u001b[0m\u001b[1;33m\u001b[0m\u001b[0m\n\u001b[0m\u001b[0;32m     67\u001b[0m         \u001b[0mm1clf_len_unique\u001b[0m\u001b[1;33m.\u001b[0m\u001b[0mappend\u001b[0m\u001b[1;33m(\u001b[0m\u001b[0mlen\u001b[0m\u001b[1;33m(\u001b[0m\u001b[0mclf\u001b[0m\u001b[1;33m.\u001b[0m\u001b[0mrules\u001b[0m\u001b[1;33m)\u001b[0m \u001b[1;33m+\u001b[0m \u001b[1;36m1\u001b[0m\u001b[1;33m)\u001b[0m\u001b[1;33m\u001b[0m\u001b[0m\n\u001b[0;32m     68\u001b[0m \u001b[1;33m\u001b[0m\u001b[0m\n",
      "\u001b[1;32mC:\\code\\python\\CBA\\cba\\algorithms\\m1algorithm.py\u001b[0m in \u001b[0;36mbuild\u001b[1;34m(self)\u001b[0m\n\u001b[0;32m     10\u001b[0m         \u001b[0mclassifier\u001b[0m \u001b[1;33m=\u001b[0m \u001b[1;33m[\u001b[0m\u001b[1;33m]\u001b[0m\u001b[1;33m\u001b[0m\u001b[0m\n\u001b[0;32m     11\u001b[0m         \u001b[0mself\u001b[0m\u001b[1;33m.\u001b[0m\u001b[0mrules\u001b[0m\u001b[1;33m.\u001b[0m\u001b[0msort\u001b[0m\u001b[1;33m(\u001b[0m\u001b[0mreverse\u001b[0m\u001b[1;33m=\u001b[0m\u001b[1;32mTrue\u001b[0m\u001b[1;33m)\u001b[0m\u001b[1;33m\u001b[0m\u001b[0m\n\u001b[1;32m---> 12\u001b[1;33m         \u001b[0mdataset\u001b[0m \u001b[1;33m=\u001b[0m \u001b[0mset\u001b[0m\u001b[1;33m(\u001b[0m\u001b[0mself\u001b[0m\u001b[1;33m.\u001b[0m\u001b[0mdataset\u001b[0m\u001b[1;33m)\u001b[0m\u001b[1;33m\u001b[0m\u001b[0m\n\u001b[0m\u001b[0;32m     13\u001b[0m         \u001b[0mdataset_len\u001b[0m \u001b[1;33m=\u001b[0m \u001b[0mlen\u001b[0m\u001b[1;33m(\u001b[0m\u001b[0mdataset\u001b[0m\u001b[1;33m)\u001b[0m\u001b[1;33m\u001b[0m\u001b[0m\n\u001b[0;32m     14\u001b[0m         \u001b[0mdataset_len_updated\u001b[0m \u001b[1;33m=\u001b[0m \u001b[0mdataset_len\u001b[0m\u001b[1;33m\u001b[0m\u001b[0m\n",
      "\u001b[1;32mC:\\code\\python\\CBA\\cba\\data_structures\\transaction.py\u001b[0m in \u001b[0;36m__eq__\u001b[1;34m(self, other)\u001b[0m\n\u001b[0;32m     45\u001b[0m \u001b[1;33m\u001b[0m\u001b[0m\n\u001b[0;32m     46\u001b[0m     \u001b[1;32mdef\u001b[0m \u001b[0m__eq__\u001b[0m\u001b[1;33m(\u001b[0m\u001b[0mself\u001b[0m\u001b[1;33m,\u001b[0m \u001b[0mother\u001b[0m\u001b[1;33m)\u001b[0m\u001b[1;33m:\u001b[0m\u001b[1;33m\u001b[0m\u001b[0m\n\u001b[1;32m---> 47\u001b[1;33m         \u001b[1;32mreturn\u001b[0m \u001b[0mhash\u001b[0m\u001b[1;33m(\u001b[0m\u001b[0mself\u001b[0m\u001b[1;33m)\u001b[0m \u001b[1;33m==\u001b[0m \u001b[0mhash\u001b[0m\u001b[1;33m(\u001b[0m\u001b[0mother\u001b[0m\u001b[1;33m)\u001b[0m\u001b[1;33m\u001b[0m\u001b[0m\n\u001b[0m\u001b[0;32m     48\u001b[0m \u001b[1;33m\u001b[0m\u001b[0m\n\u001b[0;32m     49\u001b[0m     \u001b[1;32mdef\u001b[0m \u001b[0m__getitem__\u001b[0m\u001b[1;33m(\u001b[0m\u001b[0mself\u001b[0m\u001b[1;33m,\u001b[0m \u001b[0midx\u001b[0m\u001b[1;33m)\u001b[0m\u001b[1;33m:\u001b[0m\u001b[1;33m\u001b[0m\u001b[0m\n",
      "\u001b[1;32mC:\\code\\python\\CBA\\cba\\data_structures\\transaction.py\u001b[0m in \u001b[0;36m__hash__\u001b[1;34m(self)\u001b[0m\n\u001b[0;32m     41\u001b[0m \u001b[1;33m\u001b[0m\u001b[0m\n\u001b[0;32m     42\u001b[0m     \u001b[1;32mdef\u001b[0m \u001b[0m__hash__\u001b[0m\u001b[1;33m(\u001b[0m\u001b[0mself\u001b[0m\u001b[1;33m)\u001b[0m\u001b[1;33m:\u001b[0m\u001b[1;33m\u001b[0m\u001b[0m\n\u001b[1;32m---> 43\u001b[1;33m         \u001b[1;32mreturn\u001b[0m \u001b[0mhash\u001b[0m\u001b[1;33m(\u001b[0m\u001b[0mtuple\u001b[0m\u001b[1;33m(\u001b[0m\u001b[0mself\u001b[0m\u001b[1;33m.\u001b[0m\u001b[0mitems\u001b[0m\u001b[1;33m)\u001b[0m\u001b[1;33m)\u001b[0m\u001b[1;33m\u001b[0m\u001b[0m\n\u001b[0m\u001b[0;32m     44\u001b[0m         \u001b[1;31m#return hash((self.tid, tuple(self.items)))\u001b[0m\u001b[1;33m\u001b[0m\u001b[1;33m\u001b[0m\u001b[0m\n\u001b[0;32m     45\u001b[0m \u001b[1;33m\u001b[0m\u001b[0m\n",
      "\u001b[1;32mC:\\code\\python\\CBA\\cba\\data_structures\\item.py\u001b[0m in \u001b[0;36m__hash__\u001b[1;34m(self)\u001b[0m\n\u001b[0;32m     16\u001b[0m \u001b[1;33m\u001b[0m\u001b[0m\n\u001b[0;32m     17\u001b[0m \u001b[1;33m\u001b[0m\u001b[0m\n\u001b[1;32m---> 18\u001b[1;33m     \u001b[1;32mdef\u001b[0m \u001b[0m__hash__\u001b[0m\u001b[1;33m(\u001b[0m\u001b[0mself\u001b[0m\u001b[1;33m)\u001b[0m\u001b[1;33m:\u001b[0m\u001b[1;33m\u001b[0m\u001b[0m\n\u001b[0m\u001b[0;32m     19\u001b[0m         \"\"\"\n\u001b[0;32m     20\u001b[0m         \u001b[0mreturns\u001b[0m\u001b[1;33m:\u001b[0m \u001b[1;33m(\u001b[0m\u001b[0mattribute\u001b[0m\u001b[1;33m,\u001b[0m \u001b[0mvalue\u001b[0m\u001b[1;33m)\u001b[0m \u001b[0mtuple\u001b[0m\u001b[1;33m\u001b[0m\u001b[0m\n",
      "\u001b[1;31mKeyboardInterrupt\u001b[0m: "
     ]
    }
   ],
   "source": [
    "#\n",
    "#\n",
    "# =========================\n",
    "# Oveření běhu v závislosti na vložených pravidlech / instancích\n",
    "# =========================\n",
    "#\n",
    "#\n",
    "#\n",
    "\n",
    "import time\n",
    "\n",
    "rule_count = 100\n",
    "\n",
    "benchmark_data = {\n",
    "    \"input rows\": [],\n",
    "    \"input rules\": [],\n",
    "    \"output rules M1 pyARC\": [],\n",
    "    \"output rules M1 pyARC unique\": [],\n",
    "    \"output rules M2 pyARC\": [],\n",
    "    \"time M1 pyARC\": [],\n",
    "    \"time M1 pyARC unique\": [],\n",
    "    \"time M2 pyARC\": []\n",
    "}\n",
    "\n",
    "stop_m2 = False\n",
    "\n",
    "number_of_iterations = 30\n",
    "\n",
    "directory = \"c:/code/python/machine_learning/assoc_rules\"\n",
    "\n",
    "dataset_name_benchmark = \"lymph0\"\n",
    "\n",
    "pd_ds = pd.read_csv(\"c:/code/python/machine_learning/assoc_rules/train/{}.csv\".format(dataset_name_benchmark))\n",
    "\n",
    "for i in range(11):\n",
    "    dataset_name_benchmark = \"lymph0\"\n",
    "    \n",
    "    pd_ds = pd.concat([pd_ds, pd_ds])\n",
    "    \n",
    "    txns = TransactionDB.from_DataFrame(pd_ds, unique_transactions=True)\n",
    "    txns_unique = TransactionDB.from_DataFrame(pd_ds, unique_transactions=False) \n",
    "    \n",
    "    rules = top_rules(txns.string_representation, appearance=txns.appeardict, target_rule_count=rule_count)\n",
    "\n",
    "    cars = createCARs(rules)\n",
    "     \n",
    "    if len(cars) > rule_count:\n",
    "        cars = cars[:rule_count]    \n",
    "\n",
    "        \n",
    "    m1t1 = time.time()\n",
    "    m1clf_len = []\n",
    "    for _ in range(number_of_iterations):\n",
    "        m1 = M1Algorithm(cars, txns)\n",
    "        clf = m1.build()\n",
    "        m1clf_len.append(len(clf.rules) + 1)\n",
    "    \n",
    "    m1t2 = time.time()\n",
    "    \n",
    "    \n",
    "    \n",
    "    m1t1_unique = time.time()\n",
    "    m1clf_len_unique = []\n",
    "    for _ in range(number_of_iterations):\n",
    "        m1 = M1Algorithm(cars, txns_unique)\n",
    "        clf = m1.build()\n",
    "        m1clf_len_unique.append(len(clf.rules) + 1)\n",
    "    \n",
    "    m1t2_unique = time.time()\n",
    "    \n",
    "    \n",
    "    \n",
    "    if not stop_m2:\n",
    "        m2t1 = time.time()\n",
    "        m2clf_len = []\n",
    "        for _ in range(number_of_iterations):\n",
    "            m2 = M2Algorithm(cars, txns)\n",
    "            clf = m2.build()\n",
    "            m2clf_len.append(len(clf.rules) + 1)\n",
    "\n",
    "        m2t2 = time.time()\n",
    "    \n",
    "     \n",
    "    m1duration = (m1t2 - m1t1) / number_of_iterations\n",
    "    m1duration_unique = (m1t2_unique - m1t1_unique) / number_of_iterations\n",
    "    outputrules_m1 = sum(m1clf_len) / len(m1clf_len)\n",
    "    outputrules_m1_unique = sum(m1clf_len_unique) / len(m1clf_len_unique)\n",
    "    \n",
    "    if not stop_m2:\n",
    "        m2duration = (m2t2 - m2t1) / number_of_iterations\n",
    "        outputrules_m2 = sum(m2clf_len) / len(m2clf_len)\n",
    "        if m2duration > 0.5:\n",
    "            stop_m2 = True\n",
    "    \n",
    "    benchmark_data[\"input rows\"].append(len(txns))\n",
    "    benchmark_data[\"input rules\"].append(rule_count)\n",
    "    benchmark_data[\"output rules M1 pyARC\"].append(outputrules_m1)\n",
    "    benchmark_data[\"output rules M1 pyARC unique\"].append(outputrules_m1_unique)\n",
    "    benchmark_data[\"output rules M2 pyARC\"].append(None if stop_m2 else outputrules_m2)\n",
    "    benchmark_data[\"time M1 pyARC\"].append(m1duration)\n",
    "    benchmark_data[\"time M1 pyARC unique\"].append(m1duration_unique)\n",
    "    benchmark_data[\"time M2 pyARC\"].append(None if stop_m2 else m2duration)\n",
    "\n",
    "    print(\"data_count:\", len(txns))\n",
    "    print(\"M1 duration:\", m1duration)\n",
    "    print(\"M1 unique duration\", m1duration_unique)\n",
    "    print(\"M1 output rules\", outputrules_m1)\n",
    "    if not stop_m2:\n",
    "        print(\"M2 duration:\", m2duration)\n",
    "        print(\"M2 output rules\", outputrules_m2)\n",
    "    print(\"\\n\\n\")"
   ]
  },
  {
   "cell_type": "code",
   "execution_count": null,
   "metadata": {
    "collapsed": true
   },
   "outputs": [],
   "source": [
    "#benchmark_data.pop(\"M2_duration\")\n",
    "\n",
    "benchmark_df = pd.DataFrame(benchmark_data)\n",
    "\n",
    "benchmark_df.plot(x=[\"input rows\"], y=[\"time M1 pyARC\", \"time M2 pyARC\"])\n",
    "\n",
    "#benchmark_df.to_csv(\"../data/data_sensitivity.csv\")"
   ]
  },
  {
   "cell_type": "code",
   "execution_count": null,
   "metadata": {
    "collapsed": true
   },
   "outputs": [],
   "source": [
    "benchmark_df"
   ]
  },
  {
   "cell_type": "code",
   "execution_count": null,
   "metadata": {
    "collapsed": true
   },
   "outputs": [],
   "source": [
    "R_benchmark = pd.read_csv(\"../data/arc-data-size.csv\")\n",
    "\n",
    "R_benchmark[[\"input rows\"]] = R_benchmark[[\"input rows\"]].astype(str)\n",
    "R_benchmark.set_index(\"input rows\", inplace=True)"
   ]
  },
  {
   "cell_type": "code",
   "execution_count": null,
   "metadata": {
    "collapsed": true
   },
   "outputs": [],
   "source": [
    "R_benchmark.head()"
   ]
  },
  {
   "cell_type": "code",
   "execution_count": null,
   "metadata": {
    "collapsed": true
   },
   "outputs": [],
   "source": [
    "benchmark_df[[\"input rows\"]] = benchmark_df[[\"input rows\"]].astype(str)\n",
    "benchmark_df = benchmark_df.set_index(\"input rows\")"
   ]
  },
  {
   "cell_type": "code",
   "execution_count": null,
   "metadata": {
    "collapsed": true
   },
   "outputs": [],
   "source": [
    "benchmark_all = benchmark_df.join(R_benchmark, lsuffix=\"_py\", rsuffix=\"_R\")\n",
    "benchmark_all"
   ]
  },
  {
   "cell_type": "code",
   "execution_count": null,
   "metadata": {
    "collapsed": true
   },
   "outputs": [],
   "source": [
    "import matplotlib.pyplot as plt\n",
    "\n",
    "labels = [\"pyARC - m1\", \"pyARC - m2\", \"arc\", \"rCBA\", \"arulesCBA\"]\n",
    "\n",
    "ax = benchmark_all.plot(y=[\"time M1 pyARC\", \"time M2 pyARC\", \"time_arc\", \"time_acba\", \"time_rcba\"])\n",
    "ax.legend(labels)\n",
    "\n",
    "plt.savefig(\"../data/data_size_sensitivity_plot.png\")"
   ]
  },
  {
   "cell_type": "code",
   "execution_count": null,
   "metadata": {
    "collapsed": true
   },
   "outputs": [],
   "source": [
    "benchmark_all.plot(y=[\"time M1 pyARC\", \"time M2 pyARC\", \"time_arc\", \"time_acba\", \"time_rcba\"])"
   ]
  }
 ],
 "metadata": {
  "kernelspec": {
   "display_name": "Python 3",
   "language": "python",
   "name": "python3"
  },
  "language_info": {
   "codemirror_mode": {
    "name": "ipython",
    "version": 3
   },
   "file_extension": ".py",
   "mimetype": "text/x-python",
   "name": "python",
   "nbconvert_exporter": "python",
   "pygments_lexer": "ipython3",
   "version": "3.6.1"
  }
 },
 "nbformat": 4,
 "nbformat_minor": 2
}
