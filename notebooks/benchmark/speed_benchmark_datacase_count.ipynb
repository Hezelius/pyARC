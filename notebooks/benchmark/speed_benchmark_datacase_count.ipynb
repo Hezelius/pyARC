{
 "cells": [
  {
   "cell_type": "code",
   "execution_count": 1,
   "metadata": {
    "collapsed": true
   },
   "outputs": [],
   "source": [
    "%run ../../main.py\n",
    "%matplotlib inline"
   ]
  },
  {
   "cell_type": "code",
   "execution_count": 2,
   "metadata": {
    "collapsed": true
   },
   "outputs": [],
   "source": [
    "import pandas as pd\n",
    "\n",
    "from cba.algorithms import M1Algorithm, M2Algorithm, top_rules, createCARs \n",
    "from cba.data_structures import TransactionDB"
   ]
  },
  {
   "cell_type": "code",
   "execution_count": 20,
   "metadata": {},
   "outputs": [
    {
     "name": "stdout",
     "output_type": "stream",
     "text": [
      "Running apriori with setting: confidence=0.5, support=0.0, minlen=2, maxlen=3, MAX_RULE_LEN=19\n",
      "Rule count: 2266, Iteration: 1\n",
      "Target rule count satisfied: 50\n",
      "data_count: 260\n",
      "M1 duration: 0.09551968574523925\n",
      "M2 duration: 0.4241527557373047\n",
      "\n",
      "\n",
      "\n",
      "Running apriori with setting: confidence=0.5, support=0.0, minlen=2, maxlen=3, MAX_RULE_LEN=19\n",
      "Rule count: 2266, Iteration: 1\n",
      "Target rule count satisfied: 50\n",
      "data_count: 520\n",
      "M1 duration: 0.12804617881774902\n",
      "M2 duration: 0.8984621047973633\n",
      "\n",
      "\n",
      "\n",
      "Running apriori with setting: confidence=0.5, support=0.0, minlen=2, maxlen=3, MAX_RULE_LEN=19\n",
      "Rule count: 2266, Iteration: 1\n",
      "Target rule count satisfied: 50\n",
      "data_count: 1040\n",
      "M1 duration: 0.14760468006134034\n",
      "M2 duration: 1.7439050912857055\n",
      "\n",
      "\n",
      "\n",
      "Running apriori with setting: confidence=0.5, support=0.0, minlen=2, maxlen=3, MAX_RULE_LEN=19\n",
      "Rule count: 2266, Iteration: 1\n",
      "Target rule count satisfied: 50\n",
      "data_count: 2080\n",
      "M1 duration: 0.2259371042251587\n",
      "M2 duration: 4.573528385162353\n",
      "\n",
      "\n",
      "\n",
      "Running apriori with setting: confidence=0.5, support=0.0, minlen=2, maxlen=3, MAX_RULE_LEN=19\n",
      "Rule count: 2266, Iteration: 1\n",
      "Target rule count satisfied: 50\n",
      "data_count: 4160\n",
      "M1 duration: 0.3367600440979004\n",
      "\n",
      "\n",
      "\n",
      "Running apriori with setting: confidence=0.5, support=0.0, minlen=2, maxlen=3, MAX_RULE_LEN=19\n",
      "Rule count: 2266, Iteration: 1\n",
      "Target rule count satisfied: 50\n",
      "data_count: 8320\n",
      "M1 duration: 0.5809146642684937\n",
      "\n",
      "\n",
      "\n",
      "Running apriori with setting: confidence=0.5, support=0.0, minlen=2, maxlen=3, MAX_RULE_LEN=19\n",
      "Rule count: 2266, Iteration: 1\n",
      "Target rule count satisfied: 50\n",
      "data_count: 16640\n",
      "M1 duration: 1.0955964565277099\n",
      "\n",
      "\n",
      "\n",
      "Running apriori with setting: confidence=0.5, support=0.0, minlen=2, maxlen=3, MAX_RULE_LEN=19\n",
      "Rule count: 2266, Iteration: 1\n",
      "Target rule count satisfied: 50\n",
      "data_count: 33280\n",
      "M1 duration: 1.9946959972381593\n",
      "\n",
      "\n",
      "\n",
      "Running apriori with setting: confidence=0.5, support=0.0, minlen=2, maxlen=3, MAX_RULE_LEN=19\n",
      "Rule count: 2266, Iteration: 1\n",
      "Target rule count satisfied: 50\n",
      "data_count: 66560\n",
      "M1 duration: 4.100419592857361\n",
      "\n",
      "\n",
      "\n",
      "Running apriori with setting: confidence=0.5, support=0.0, minlen=2, maxlen=3, MAX_RULE_LEN=19\n",
      "Rule count: 2266, Iteration: 1\n",
      "Target rule count satisfied: 50\n",
      "data_count: 133120\n",
      "M1 duration: 7.9120101690292355\n",
      "\n",
      "\n",
      "\n"
     ]
    }
   ],
   "source": [
    "#\n",
    "#\n",
    "# =========================\n",
    "# Oveření běhu v závislosti na vložených pravidlech / instancích\n",
    "# =========================\n",
    "#\n",
    "#\n",
    "#\n",
    "\n",
    "import time\n",
    "\n",
    "rule_count = 50\n",
    "\n",
    "benchmark_data = {\n",
    "    \"data_count\": [],\n",
    "    \"M1_duration\": [],\n",
    "    \"M2_duration\": []\n",
    "}\n",
    "\n",
    "stop_m2 = False\n",
    "\n",
    "number_of_iterations = 10\n",
    "\n",
    "directory = \"c:/code/python/machine_learning/assoc_rules\"\n",
    "\n",
    "dataset_name_benchmark = \"lymph0\"\n",
    "\n",
    "pd_ds = pd_ds = pd.read_csv(\"c:/code/python/machine_learning/assoc_rules/train/{}.csv\".format(dataset_name_benchmark))\n",
    "\n",
    "for i in range(10):\n",
    "    dataset_name_benchmark = \"lymph0\"\n",
    "    \n",
    "    pd_ds = pd.concat([pd_ds, pd_ds])\n",
    "    \n",
    "    txns = TransactionDB.from_pandasdf(pd_ds)\n",
    "    \n",
    "    rules = top_rules(txns.string_representation, appearance=txns.appeardict, target_rule_count=rule_count)\n",
    "\n",
    "    cars = createCARs(rules)\n",
    "     \n",
    "    if len(cars) > rule_count:\n",
    "        cars = cars[:rule_count]    \n",
    "\n",
    "        \n",
    "    m1t1 = time.time()\n",
    "    for _ in range(number_of_iterations):\n",
    "        m1 = M1Algorithm(cars, txns)\n",
    "        clf = m1.build()\n",
    "    \n",
    "    m1t2 = time.time()\n",
    "    \n",
    "    if not stop_m2:\n",
    "        m2t1 = time.time()\n",
    "        for _ in range(number_of_iterations):\n",
    "            m2 = M2Algorithm(cars, txns)\n",
    "            clf = m2.build()\n",
    "\n",
    "        m2t2 = time.time()\n",
    "    \n",
    "     \n",
    "    m1duration = (m1t2 - m1t1) / number_of_iterations\n",
    "    if not stop_m2:\n",
    "        m2duration = (m2t2 - m2t1) / number_of_iterations\n",
    "        if m2duration > 9:\n",
    "            stop_m2 = True\n",
    "    \n",
    "    benchmark_data[\"data_count\"].append(len(txns))\n",
    "    benchmark_data[\"M1_duration\"].append(m1duration)\n",
    "    benchmark_data[\"M2_duration\"].append(None if stop_m2 else m2duration)\n",
    "\n",
    "    print(\"data_count:\", len(txns))\n",
    "    print(\"M1 duration:\", m1duration)\n",
    "    if not stop_m2: print(\"M2 duration:\", m2duration)\n",
    "    print(\"\\n\\n\")"
   ]
  },
  {
   "cell_type": "code",
   "execution_count": 23,
   "metadata": {},
   "outputs": [
    {
     "data": {
      "text/plain": [
       "<matplotlib.axes._subplots.AxesSubplot at 0x1930fe25e10>"
      ]
     },
     "execution_count": 23,
     "metadata": {},
     "output_type": "execute_result"
    },
    {
     "data": {
      "image/png": "[encoded data removed]",
      "text/plain": [
       "<matplotlib.figure.Figure at 0x1932056cf28>"
      ]
     },
     "metadata": {},
     "output_type": "display_data"
    }
   ],
   "source": [
    "#benchmark_data.pop(\"M2_duration\")\n",
    "\n",
    "benchmark_df = pd.DataFrame(benchmark_data)\n",
    "\n",
    "benchmark_df.plot(x=[\"data_count\"], y=[\"M1_duration\", \"M2_duration\"])\n",
    "\n",
    "#benchmark_df.to_csv(\"../data/data_sensitivity.csv\")"
   ]
  }
 ],
 "metadata": {
  "kernelspec": {
   "display_name": "Python 3",
   "language": "python",
   "name": "python3"
  },
  "language_info": {
   "codemirror_mode": {
    "name": "ipython",
    "version": 3
   },
   "file_extension": ".py",
   "mimetype": "text/x-python",
   "name": "python",
   "nbconvert_exporter": "python",
   "pygments_lexer": "ipython3",
   "version": "3.6.1"
  }
 },
 "nbformat": 4,
 "nbformat_minor": 2
}
