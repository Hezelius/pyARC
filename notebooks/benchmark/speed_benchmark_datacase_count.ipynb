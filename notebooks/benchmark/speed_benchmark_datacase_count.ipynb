{
 "cells": [
  {
   "cell_type": "code",
   "execution_count": 1,
   "metadata": {
    "collapsed": true
   },
   "outputs": [],
   "source": [
    "%run ../../main.py\n",
    "%matplotlib inline"
   ]
  },
  {
   "cell_type": "code",
   "execution_count": 2,
   "metadata": {
    "collapsed": true
   },
   "outputs": [],
   "source": [
    "import pandas as pd\n",
    "\n",
    "from cba.algorithms import M1Algorithm, M2Algorithm, top_rules, createCARs \n",
    "from cba.data_structures import TransactionDB"
   ]
  },
  {
   "cell_type": "code",
   "execution_count": null,
   "metadata": {},
   "outputs": [
    {
     "name": "stdout",
     "output_type": "stream",
     "text": [
      "Running apriori with setting: confidence=0.5, support=0.0, minlen=2, maxlen=3, MAX_RULE_LEN=19\n",
      "Rule count: 2266, Iteration: 1\n",
      "Target rule count satisfied: 50\n",
      "data_count: 260\n",
      "M1 duration: 0.01365799903869629\n",
      "M2 duration: 0.04022848606109619\n",
      "\n",
      "\n",
      "\n",
      "Running apriori with setting: confidence=0.5, support=0.0, minlen=2, maxlen=3, MAX_RULE_LEN=19\n",
      "Rule count: 2266, Iteration: 1\n",
      "Target rule count satisfied: 50\n",
      "data_count: 520\n",
      "M1 duration: 0.02871861457824707\n",
      "\n",
      "\n",
      "\n",
      "Running apriori with setting: confidence=0.5, support=0.0, minlen=2, maxlen=3, MAX_RULE_LEN=19\n",
      "Rule count: 2266, Iteration: 1\n",
      "Target rule count satisfied: 50\n",
      "data_count: 1040\n",
      "M1 duration: 0.05388815402984619\n",
      "\n",
      "\n",
      "\n",
      "Running apriori with setting: confidence=0.5, support=0.0, minlen=2, maxlen=3, MAX_RULE_LEN=19\n",
      "Rule count: 2266, Iteration: 1\n",
      "Target rule count satisfied: 50\n",
      "data_count: 2080\n",
      "M1 duration: 0.09786927700042725\n",
      "\n",
      "\n",
      "\n",
      "Running apriori with setting: confidence=0.5, support=0.0, minlen=2, maxlen=3, MAX_RULE_LEN=19\n",
      "Rule count: 2266, Iteration: 1\n",
      "Target rule count satisfied: 50\n",
      "data_count: 4160\n",
      "M1 duration: 0.18678221702575684\n",
      "\n",
      "\n",
      "\n",
      "Running apriori with setting: confidence=0.5, support=0.0, minlen=2, maxlen=3, MAX_RULE_LEN=19\n",
      "Rule count: 2266, Iteration: 1\n",
      "Target rule count satisfied: 50\n",
      "data_count: 8320\n",
      "M1 duration: 0.37917988300323485\n",
      "\n",
      "\n",
      "\n",
      "Running apriori with setting: confidence=0.5, support=0.0, minlen=2, maxlen=3, MAX_RULE_LEN=19\n",
      "Rule count: 2266, Iteration: 1\n",
      "Target rule count satisfied: 50\n",
      "data_count: 16640\n",
      "M1 duration: 0.7315189361572265\n",
      "\n",
      "\n",
      "\n",
      "Running apriori with setting: confidence=0.5, support=0.0, minlen=2, maxlen=3, MAX_RULE_LEN=19\n",
      "Rule count: 2266, Iteration: 1\n",
      "Target rule count satisfied: 50\n",
      "data_count: 33280\n",
      "M1 duration: 1.4634439468383789\n",
      "\n",
      "\n",
      "\n",
      "Running apriori with setting: confidence=0.5, support=0.0, minlen=2, maxlen=3, MAX_RULE_LEN=19\n",
      "Rule count: 2266, Iteration: 1\n",
      "Target rule count satisfied: 50\n"
     ]
    }
   ],
   "source": [
    "#\n",
    "#\n",
    "# =========================\n",
    "# Oveření běhu v závislosti na vložených pravidlech / instancích\n",
    "# =========================\n",
    "#\n",
    "#\n",
    "#\n",
    "\n",
    "import time\n",
    "\n",
    "rule_count = 50\n",
    "\n",
    "benchmark_data = {\n",
    "    \"data_count\": [],\n",
    "    \"M1_duration\": [],\n",
    "    \"M2_duration\": []\n",
    "}\n",
    "\n",
    "stop_m2 = False\n",
    "\n",
    "number_of_iterations = 10\n",
    "\n",
    "directory = \"c:/code/python/machine_learning/assoc_rules\"\n",
    "\n",
    "dataset_name_benchmark = \"lymph0\"\n",
    "\n",
    "pd_ds = pd_ds = pd.read_csv(\"c:/code/python/machine_learning/assoc_rules/train/{}.csv\".format(dataset_name_benchmark))\n",
    "\n",
    "for i in range(10):\n",
    "    dataset_name_benchmark = \"lymph0\"\n",
    "    \n",
    "    pd_ds = pd.concat([pd_ds, pd_ds])\n",
    "    \n",
    "    txns = TransactionDB.from_pandasdf(pd_ds)\n",
    "    \n",
    "    rules = top_rules(txns.string_representation, appearance=txns.appeardict, target_rule_count=rule_count)\n",
    "\n",
    "    cars = createCARs(rules)\n",
    "     \n",
    "    if len(cars) > rule_count:\n",
    "        cars = cars[:rule_count]    \n",
    "\n",
    "        \n",
    "    m1t1 = time.time()\n",
    "    for _ in range(number_of_iterations):\n",
    "        m1 = M1Algorithm(cars, txns)\n",
    "        clf = m1.build()\n",
    "    \n",
    "    m1t2 = time.time()\n",
    "    \n",
    "    if not stop_m2:\n",
    "        m2t1 = time.time()\n",
    "        for _ in range(number_of_iterations):\n",
    "            m2 = M2Algorithm(cars, txns)\n",
    "            clf = m2.build()\n",
    "\n",
    "        m2t2 = time.time()\n",
    "    \n",
    "     \n",
    "    m1duration = (m1t2 - m1t1) / number_of_iterations\n",
    "    if not stop_m2:\n",
    "        m2duration = (m2t2 - m2t1) / number_of_iterations\n",
    "        if m2duration > 0.1:\n",
    "            stop_m2 = True\n",
    "    \n",
    "    benchmark_data[\"data_count\"].append(len(txns))\n",
    "    benchmark_data[\"M1_duration\"].append(m1duration)\n",
    "    benchmark_data[\"M2_duration\"].append(None if stop_m2 else m2duration)\n",
    "\n",
    "    print(\"data_count:\", len(txns))\n",
    "    print(\"M1 duration:\", m1duration)\n",
    "    if not stop_m2: print(\"M2 duration:\", m2duration)\n",
    "    print(\"\\n\\n\")"
   ]
  },
  {
   "cell_type": "code",
   "execution_count": 6,
   "metadata": {},
   "outputs": [
    {
     "data": {
      "text/plain": [
       "<matplotlib.axes._subplots.AxesSubplot at 0x1ec86569198>"
      ]
     },
     "execution_count": 6,
     "metadata": {},
     "output_type": "execute_result"
    },
    {
     "data": {
      "image/png": "[encoded data removed]",
      "text/plain": [
       "<matplotlib.figure.Figure at 0x1ecb0e45198>"
      ]
     },
     "metadata": {},
     "output_type": "display_data"
    }
   ],
   "source": [
    "#benchmark_data.pop(\"M2_duration\")\n",
    "\n",
    "benchmark_df = pd.DataFrame(benchmark_data)\n",
    "\n",
    "benchmark_df.plot(x=[\"data_count\"], y=[\"M1_duration\", \"M2_duration\"])\n",
    "\n",
    "#benchmark_df.to_csv(\"../data/data_sensitivity.csv\")"
   ]
  }
 ],
 "metadata": {
  "kernelspec": {
   "display_name": "Python 3",
   "language": "python",
   "name": "python3"
  },
  "language_info": {
   "codemirror_mode": {
    "name": "ipython",
    "version": 3
   },
   "file_extension": ".py",
   "mimetype": "text/x-python",
   "name": "python",
   "nbconvert_exporter": "python",
   "pygments_lexer": "ipython3",
   "version": "3.6.1"
  }
 },
 "nbformat": 4,
 "nbformat_minor": 2
}
